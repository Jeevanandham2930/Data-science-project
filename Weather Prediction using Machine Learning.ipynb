{
 "cells": [
  {
   "cell_type": "code",
   "execution_count": 3,
   "id": "90361103",
   "metadata": {},
   "outputs": [],
   "source": [
    "import numpy as np\n",
    "import pandas as pd\n",
    "import matplotlib.pyplot as plt\n",
    "import seaborn as sb\n",
    "\n",
    "from sklearn.model_selection import train_test_split\n",
    "from sklearn.preprocessing import StandardScaler\n",
    "from sklearn import metrics\n",
    "from xgboost import XGBClassifier\n",
    "from sklearn.linear_model import LogisticRegression\n",
    "\n",
    "import warnings\n",
    "warnings.filterwarnings('ignore')"
   ]
  },
  {
   "cell_type": "code",
   "execution_count": 4,
   "id": "25f93173",
   "metadata": {},
   "outputs": [
    {
     "data": {
      "text/html": [
       "<div>\n",
       "<style scoped>\n",
       "    .dataframe tbody tr th:only-of-type {\n",
       "        vertical-align: middle;\n",
       "    }\n",
       "\n",
       "    .dataframe tbody tr th {\n",
       "        vertical-align: top;\n",
       "    }\n",
       "\n",
       "    .dataframe thead th {\n",
       "        text-align: right;\n",
       "    }\n",
       "</style>\n",
       "<table border=\"1\" class=\"dataframe\">\n",
       "  <thead>\n",
       "    <tr style=\"text-align: right;\">\n",
       "      <th></th>\n",
       "      <th>Formatted Date</th>\n",
       "      <th>Summary</th>\n",
       "      <th>Precip Type</th>\n",
       "      <th>Temperature (C)</th>\n",
       "      <th>Apparent Temperature (C)</th>\n",
       "      <th>Humidity</th>\n",
       "      <th>Wind Speed (km/h)</th>\n",
       "      <th>Wind Bearing (degrees)</th>\n",
       "      <th>Visibility (km)</th>\n",
       "      <th>Loud Cover</th>\n",
       "      <th>Pressure (millibars)</th>\n",
       "      <th>Daily Summary</th>\n",
       "    </tr>\n",
       "  </thead>\n",
       "  <tbody>\n",
       "    <tr>\n",
       "      <th>0</th>\n",
       "      <td>2006-04-01 00:00:00.000 +0200</td>\n",
       "      <td>Partly Cloudy</td>\n",
       "      <td>rain</td>\n",
       "      <td>9.472222</td>\n",
       "      <td>7.388889</td>\n",
       "      <td>0.89</td>\n",
       "      <td>14.1197</td>\n",
       "      <td>251.0</td>\n",
       "      <td>15.8263</td>\n",
       "      <td>0.0</td>\n",
       "      <td>1015.13</td>\n",
       "      <td>Partly cloudy throughout the day.</td>\n",
       "    </tr>\n",
       "    <tr>\n",
       "      <th>1</th>\n",
       "      <td>2006-04-01 01:00:00.000 +0200</td>\n",
       "      <td>Partly Cloudy</td>\n",
       "      <td>rain</td>\n",
       "      <td>9.355556</td>\n",
       "      <td>7.227778</td>\n",
       "      <td>0.86</td>\n",
       "      <td>14.2646</td>\n",
       "      <td>259.0</td>\n",
       "      <td>15.8263</td>\n",
       "      <td>0.0</td>\n",
       "      <td>1015.63</td>\n",
       "      <td>Partly cloudy throughout the day.</td>\n",
       "    </tr>\n",
       "    <tr>\n",
       "      <th>2</th>\n",
       "      <td>2006-04-01 02:00:00.000 +0200</td>\n",
       "      <td>Mostly Cloudy</td>\n",
       "      <td>rain</td>\n",
       "      <td>9.377778</td>\n",
       "      <td>9.377778</td>\n",
       "      <td>0.89</td>\n",
       "      <td>3.9284</td>\n",
       "      <td>204.0</td>\n",
       "      <td>14.9569</td>\n",
       "      <td>0.0</td>\n",
       "      <td>1015.94</td>\n",
       "      <td>Partly cloudy throughout the day.</td>\n",
       "    </tr>\n",
       "  </tbody>\n",
       "</table>\n",
       "</div>"
      ],
      "text/plain": [
       "                  Formatted Date        Summary Precip Type  Temperature (C)  \\\n",
       "0  2006-04-01 00:00:00.000 +0200  Partly Cloudy        rain         9.472222   \n",
       "1  2006-04-01 01:00:00.000 +0200  Partly Cloudy        rain         9.355556   \n",
       "2  2006-04-01 02:00:00.000 +0200  Mostly Cloudy        rain         9.377778   \n",
       "\n",
       "   Apparent Temperature (C)  Humidity  Wind Speed (km/h)  \\\n",
       "0                  7.388889      0.89            14.1197   \n",
       "1                  7.227778      0.86            14.2646   \n",
       "2                  9.377778      0.89             3.9284   \n",
       "\n",
       "   Wind Bearing (degrees)  Visibility (km)  Loud Cover  Pressure (millibars)  \\\n",
       "0                   251.0          15.8263         0.0               1015.13   \n",
       "1                   259.0          15.8263         0.0               1015.63   \n",
       "2                   204.0          14.9569         0.0               1015.94   \n",
       "\n",
       "                       Daily Summary  \n",
       "0  Partly cloudy throughout the day.  \n",
       "1  Partly cloudy throughout the day.  \n",
       "2  Partly cloudy throughout the day.  "
      ]
     },
     "execution_count": 4,
     "metadata": {},
     "output_type": "execute_result"
    }
   ],
   "source": [
    "df=pd.read_csv('weatherHistory.csv')\n",
    "df.head(3)"
   ]
  },
  {
   "cell_type": "code",
   "execution_count": 5,
   "id": "101542a0",
   "metadata": {},
   "outputs": [
    {
     "name": "stdout",
     "output_type": "stream",
     "text": [
      "<class 'pandas.core.frame.DataFrame'>\n",
      "RangeIndex: 96453 entries, 0 to 96452\n",
      "Data columns (total 12 columns):\n",
      " #   Column                    Non-Null Count  Dtype  \n",
      "---  ------                    --------------  -----  \n",
      " 0   Formatted Date            96453 non-null  object \n",
      " 1   Summary                   96453 non-null  object \n",
      " 2   Precip Type               95936 non-null  object \n",
      " 3   Temperature (C)           96453 non-null  float64\n",
      " 4   Apparent Temperature (C)  96453 non-null  float64\n",
      " 5   Humidity                  96453 non-null  float64\n",
      " 6   Wind Speed (km/h)         96453 non-null  float64\n",
      " 7   Wind Bearing (degrees)    96453 non-null  float64\n",
      " 8   Visibility (km)           96453 non-null  float64\n",
      " 9   Loud Cover                96453 non-null  float64\n",
      " 10  Pressure (millibars)      96453 non-null  float64\n",
      " 11  Daily Summary             96453 non-null  object \n",
      "dtypes: float64(8), object(4)\n",
      "memory usage: 8.8+ MB\n"
     ]
    }
   ],
   "source": [
    "df.info()"
   ]
  },
  {
   "cell_type": "code",
   "execution_count": 6,
   "id": "47d1e51d",
   "metadata": {},
   "outputs": [
    {
     "data": {
      "text/plain": [
       "(96453, 12)"
      ]
     },
     "execution_count": 6,
     "metadata": {},
     "output_type": "execute_result"
    }
   ],
   "source": [
    "df.shape"
   ]
  },
  {
   "cell_type": "code",
   "execution_count": 7,
   "id": "32f0cdf2",
   "metadata": {},
   "outputs": [
    {
     "data": {
      "text/plain": [
       "(96453, 12)"
      ]
     },
     "execution_count": 7,
     "metadata": {},
     "output_type": "execute_result"
    }
   ],
   "source": [
    "df.shape"
   ]
  },
  {
   "cell_type": "code",
   "execution_count": 8,
   "id": "ef4aadaa",
   "metadata": {},
   "outputs": [
    {
     "data": {
      "text/plain": [
       "rain    85224\n",
       "snow    10712\n",
       "Name: Precip Type, dtype: int64"
      ]
     },
     "execution_count": 8,
     "metadata": {},
     "output_type": "execute_result"
    }
   ],
   "source": [
    "df['Precip Type'].value_counts()"
   ]
  },
  {
   "cell_type": "code",
   "execution_count": 9,
   "id": "c61fcb6f",
   "metadata": {
    "scrolled": true
   },
   "outputs": [
    {
     "data": {
      "text/plain": [
       "Formatted Date              0.00\n",
       "Summary                     0.00\n",
       "Precip Type                 0.54\n",
       "Temperature (C)             0.00\n",
       "Apparent Temperature (C)    0.00\n",
       "Humidity                    0.00\n",
       "Wind Speed (km/h)           0.00\n",
       "Wind Bearing (degrees)      0.00\n",
       "Visibility (km)             0.00\n",
       "Loud Cover                  0.00\n",
       "Pressure (millibars)        0.00\n",
       "Daily Summary               0.00\n",
       "dtype: float64"
      ]
     },
     "execution_count": 9,
     "metadata": {},
     "output_type": "execute_result"
    }
   ],
   "source": [
    "round((df.isnull().sum()*100)/len(df),2)"
   ]
  },
  {
   "cell_type": "code",
   "execution_count": 10,
   "id": "32715ce3",
   "metadata": {},
   "outputs": [],
   "source": [
    "dt=df.dropna()"
   ]
  },
  {
   "cell_type": "code",
   "execution_count": 11,
   "id": "d3c93c55",
   "metadata": {},
   "outputs": [
    {
     "data": {
      "text/plain": [
       "Formatted Date              0.0\n",
       "Summary                     0.0\n",
       "Precip Type                 0.0\n",
       "Temperature (C)             0.0\n",
       "Apparent Temperature (C)    0.0\n",
       "Humidity                    0.0\n",
       "Wind Speed (km/h)           0.0\n",
       "Wind Bearing (degrees)      0.0\n",
       "Visibility (km)             0.0\n",
       "Loud Cover                  0.0\n",
       "Pressure (millibars)        0.0\n",
       "Daily Summary               0.0\n",
       "dtype: float64"
      ]
     },
     "execution_count": 11,
     "metadata": {},
     "output_type": "execute_result"
    }
   ],
   "source": [
    "round((dt.isnull().sum()*100)/len(df),2)"
   ]
  },
  {
   "cell_type": "code",
   "execution_count": 12,
   "id": "6c9016ac",
   "metadata": {},
   "outputs": [
    {
     "data": {
      "text/html": [
       "<div>\n",
       "<style scoped>\n",
       "    .dataframe tbody tr th:only-of-type {\n",
       "        vertical-align: middle;\n",
       "    }\n",
       "\n",
       "    .dataframe tbody tr th {\n",
       "        vertical-align: top;\n",
       "    }\n",
       "\n",
       "    .dataframe thead th {\n",
       "        text-align: right;\n",
       "    }\n",
       "</style>\n",
       "<table border=\"1\" class=\"dataframe\">\n",
       "  <thead>\n",
       "    <tr style=\"text-align: right;\">\n",
       "      <th></th>\n",
       "      <th>count</th>\n",
       "      <th>mean</th>\n",
       "      <th>std</th>\n",
       "      <th>min</th>\n",
       "      <th>25%</th>\n",
       "      <th>50%</th>\n",
       "      <th>75%</th>\n",
       "      <th>max</th>\n",
       "    </tr>\n",
       "  </thead>\n",
       "  <tbody>\n",
       "    <tr>\n",
       "      <th>Temperature (C)</th>\n",
       "      <td>95936.0</td>\n",
       "      <td>11.940976</td>\n",
       "      <td>9.570671</td>\n",
       "      <td>-21.822222</td>\n",
       "      <td>4.604167</td>\n",
       "      <td>12.033333</td>\n",
       "      <td>18.844444</td>\n",
       "      <td>39.905556</td>\n",
       "    </tr>\n",
       "    <tr>\n",
       "      <th>Apparent Temperature (C)</th>\n",
       "      <td>95936.0</td>\n",
       "      <td>10.862531</td>\n",
       "      <td>10.717812</td>\n",
       "      <td>-27.716667</td>\n",
       "      <td>2.276389</td>\n",
       "      <td>12.033333</td>\n",
       "      <td>18.844444</td>\n",
       "      <td>39.344444</td>\n",
       "    </tr>\n",
       "    <tr>\n",
       "      <th>Humidity</th>\n",
       "      <td>95936.0</td>\n",
       "      <td>0.734841</td>\n",
       "      <td>0.195724</td>\n",
       "      <td>0.000000</td>\n",
       "      <td>0.600000</td>\n",
       "      <td>0.780000</td>\n",
       "      <td>0.890000</td>\n",
       "      <td>1.000000</td>\n",
       "    </tr>\n",
       "    <tr>\n",
       "      <th>Wind Speed (km/h)</th>\n",
       "      <td>95936.0</td>\n",
       "      <td>10.804936</td>\n",
       "      <td>6.920727</td>\n",
       "      <td>0.000000</td>\n",
       "      <td>5.796000</td>\n",
       "      <td>9.933700</td>\n",
       "      <td>14.135800</td>\n",
       "      <td>63.852600</td>\n",
       "    </tr>\n",
       "    <tr>\n",
       "      <th>Wind Bearing (degrees)</th>\n",
       "      <td>95936.0</td>\n",
       "      <td>187.518773</td>\n",
       "      <td>107.385351</td>\n",
       "      <td>0.000000</td>\n",
       "      <td>116.000000</td>\n",
       "      <td>180.000000</td>\n",
       "      <td>290.000000</td>\n",
       "      <td>359.000000</td>\n",
       "    </tr>\n",
       "    <tr>\n",
       "      <th>Visibility (km)</th>\n",
       "      <td>95936.0</td>\n",
       "      <td>10.362402</td>\n",
       "      <td>4.173780</td>\n",
       "      <td>0.000000</td>\n",
       "      <td>8.372000</td>\n",
       "      <td>10.046400</td>\n",
       "      <td>14.812000</td>\n",
       "      <td>16.100000</td>\n",
       "    </tr>\n",
       "    <tr>\n",
       "      <th>Loud Cover</th>\n",
       "      <td>95936.0</td>\n",
       "      <td>0.000000</td>\n",
       "      <td>0.000000</td>\n",
       "      <td>0.000000</td>\n",
       "      <td>0.000000</td>\n",
       "      <td>0.000000</td>\n",
       "      <td>0.000000</td>\n",
       "      <td>0.000000</td>\n",
       "    </tr>\n",
       "    <tr>\n",
       "      <th>Pressure (millibars)</th>\n",
       "      <td>95936.0</td>\n",
       "      <td>1003.150038</td>\n",
       "      <td>117.276976</td>\n",
       "      <td>0.000000</td>\n",
       "      <td>1011.890000</td>\n",
       "      <td>1016.420000</td>\n",
       "      <td>1021.050000</td>\n",
       "      <td>1046.380000</td>\n",
       "    </tr>\n",
       "  </tbody>\n",
       "</table>\n",
       "</div>"
      ],
      "text/plain": [
       "                            count         mean         std        min  \\\n",
       "Temperature (C)           95936.0    11.940976    9.570671 -21.822222   \n",
       "Apparent Temperature (C)  95936.0    10.862531   10.717812 -27.716667   \n",
       "Humidity                  95936.0     0.734841    0.195724   0.000000   \n",
       "Wind Speed (km/h)         95936.0    10.804936    6.920727   0.000000   \n",
       "Wind Bearing (degrees)    95936.0   187.518773  107.385351   0.000000   \n",
       "Visibility (km)           95936.0    10.362402    4.173780   0.000000   \n",
       "Loud Cover                95936.0     0.000000    0.000000   0.000000   \n",
       "Pressure (millibars)      95936.0  1003.150038  117.276976   0.000000   \n",
       "\n",
       "                                  25%          50%          75%          max  \n",
       "Temperature (C)              4.604167    12.033333    18.844444    39.905556  \n",
       "Apparent Temperature (C)     2.276389    12.033333    18.844444    39.344444  \n",
       "Humidity                     0.600000     0.780000     0.890000     1.000000  \n",
       "Wind Speed (km/h)            5.796000     9.933700    14.135800    63.852600  \n",
       "Wind Bearing (degrees)     116.000000   180.000000   290.000000   359.000000  \n",
       "Visibility (km)              8.372000    10.046400    14.812000    16.100000  \n",
       "Loud Cover                   0.000000     0.000000     0.000000     0.000000  \n",
       "Pressure (millibars)      1011.890000  1016.420000  1021.050000  1046.380000  "
      ]
     },
     "execution_count": 12,
     "metadata": {},
     "output_type": "execute_result"
    }
   ],
   "source": [
    "dt.describe().T"
   ]
  },
  {
   "cell_type": "code",
   "execution_count": 13,
   "id": "0bedd94a",
   "metadata": {},
   "outputs": [
    {
     "data": {
      "text/plain": [
       "Index(['Formatted Date', 'Summary', 'Precip Type', 'Temperature (C)',\n",
       "       'Apparent Temperature (C)', 'Humidity', 'Wind Speed (km/h)',\n",
       "       'Wind Bearing (degrees)', 'Visibility (km)', 'Loud Cover',\n",
       "       'Pressure (millibars)', 'Daily Summary'],\n",
       "      dtype='object')"
      ]
     },
     "execution_count": 13,
     "metadata": {},
     "output_type": "execute_result"
    }
   ],
   "source": [
    "dt.columns"
   ]
  },
  {
   "cell_type": "code",
   "execution_count": 14,
   "id": "abfa34ba",
   "metadata": {},
   "outputs": [
    {
     "data": {
      "text/plain": [
       "0        2006-04-01 00:00:00.000 +0200\n",
       "1        2006-04-01 01:00:00.000 +0200\n",
       "2        2006-04-01 02:00:00.000 +0200\n",
       "3        2006-04-01 03:00:00.000 +0200\n",
       "4        2006-04-01 04:00:00.000 +0200\n",
       "                     ...              \n",
       "96448    2016-09-09 19:00:00.000 +0200\n",
       "96449    2016-09-09 20:00:00.000 +0200\n",
       "96450    2016-09-09 21:00:00.000 +0200\n",
       "96451    2016-09-09 22:00:00.000 +0200\n",
       "96452    2016-09-09 23:00:00.000 +0200\n",
       "Name: Formatted Date, Length: 96453, dtype: object"
      ]
     },
     "execution_count": 14,
     "metadata": {},
     "output_type": "execute_result"
    }
   ],
   "source": [
    "df['Formatted Date']"
   ]
  },
  {
   "cell_type": "code",
   "execution_count": 15,
   "id": "c2b4d88b",
   "metadata": {},
   "outputs": [
    {
     "data": {
      "text/html": [
       "<div>\n",
       "<style scoped>\n",
       "    .dataframe tbody tr th:only-of-type {\n",
       "        vertical-align: middle;\n",
       "    }\n",
       "\n",
       "    .dataframe tbody tr th {\n",
       "        vertical-align: top;\n",
       "    }\n",
       "\n",
       "    .dataframe thead th {\n",
       "        text-align: right;\n",
       "    }\n",
       "</style>\n",
       "<table border=\"1\" class=\"dataframe\">\n",
       "  <thead>\n",
       "    <tr style=\"text-align: right;\">\n",
       "      <th></th>\n",
       "      <th>Formatted Date</th>\n",
       "      <th>Summary</th>\n",
       "      <th>Precip Type</th>\n",
       "      <th>Temperature (C)</th>\n",
       "      <th>Apparent Temperature (C)</th>\n",
       "      <th>Humidity</th>\n",
       "      <th>Wind Speed (km/h)</th>\n",
       "      <th>Wind Bearing (degrees)</th>\n",
       "      <th>Visibility (km)</th>\n",
       "      <th>Loud Cover</th>\n",
       "      <th>Pressure (millibars)</th>\n",
       "      <th>Daily Summary</th>\n",
       "    </tr>\n",
       "  </thead>\n",
       "  <tbody>\n",
       "    <tr>\n",
       "      <th>0</th>\n",
       "      <td>2006-04-01 00:00:00.000 +0200</td>\n",
       "      <td>Partly Cloudy</td>\n",
       "      <td>rain</td>\n",
       "      <td>9.472222</td>\n",
       "      <td>7.388889</td>\n",
       "      <td>0.89</td>\n",
       "      <td>14.1197</td>\n",
       "      <td>251.0</td>\n",
       "      <td>15.8263</td>\n",
       "      <td>0.0</td>\n",
       "      <td>1015.13</td>\n",
       "      <td>Partly cloudy throughout the day.</td>\n",
       "    </tr>\n",
       "    <tr>\n",
       "      <th>1</th>\n",
       "      <td>2006-04-01 01:00:00.000 +0200</td>\n",
       "      <td>Partly Cloudy</td>\n",
       "      <td>rain</td>\n",
       "      <td>9.355556</td>\n",
       "      <td>7.227778</td>\n",
       "      <td>0.86</td>\n",
       "      <td>14.2646</td>\n",
       "      <td>259.0</td>\n",
       "      <td>15.8263</td>\n",
       "      <td>0.0</td>\n",
       "      <td>1015.63</td>\n",
       "      <td>Partly cloudy throughout the day.</td>\n",
       "    </tr>\n",
       "  </tbody>\n",
       "</table>\n",
       "</div>"
      ],
      "text/plain": [
       "                  Formatted Date        Summary Precip Type  Temperature (C)  \\\n",
       "0  2006-04-01 00:00:00.000 +0200  Partly Cloudy        rain         9.472222   \n",
       "1  2006-04-01 01:00:00.000 +0200  Partly Cloudy        rain         9.355556   \n",
       "\n",
       "   Apparent Temperature (C)  Humidity  Wind Speed (km/h)  \\\n",
       "0                  7.388889      0.89            14.1197   \n",
       "1                  7.227778      0.86            14.2646   \n",
       "\n",
       "   Wind Bearing (degrees)  Visibility (km)  Loud Cover  Pressure (millibars)  \\\n",
       "0                   251.0          15.8263         0.0               1015.13   \n",
       "1                   259.0          15.8263         0.0               1015.63   \n",
       "\n",
       "                       Daily Summary  \n",
       "0  Partly cloudy throughout the day.  \n",
       "1  Partly cloudy throughout the day.  "
      ]
     },
     "execution_count": 15,
     "metadata": {},
     "output_type": "execute_result"
    }
   ],
   "source": [
    "dt.head(2)"
   ]
  },
  {
   "cell_type": "code",
   "execution_count": 16,
   "id": "d6a14e86",
   "metadata": {},
   "outputs": [],
   "source": [
    "dt1=dt.drop(['Loud Cover','Formatted Date','Daily Summary'],axis=1)"
   ]
  },
  {
   "cell_type": "code",
   "execution_count": 17,
   "id": "04c00af9",
   "metadata": {},
   "outputs": [
    {
     "data": {
      "text/plain": [
       "Partly Cloudy                          31635\n",
       "Mostly Cloudy                          27914\n",
       "Overcast                               16516\n",
       "Clear                                  10763\n",
       "Foggy                                   7117\n",
       "Breezy and Overcast                      528\n",
       "Breezy and Mostly Cloudy                 516\n",
       "Breezy and Partly Cloudy                 386\n",
       "Dry and Partly Cloudy                     86\n",
       "Windy and Partly Cloudy                   67\n",
       "Light Rain                                63\n",
       "Breezy                                    54\n",
       "Windy and Overcast                        45\n",
       "Humid and Mostly Cloudy                   40\n",
       "Drizzle                                   39\n",
       "Breezy and Foggy                          35\n",
       "Windy and Mostly Cloudy                   35\n",
       "Dry                                       34\n",
       "Humid and Partly Cloudy                   17\n",
       "Dry and Mostly Cloudy                     14\n",
       "Rain                                      10\n",
       "Windy                                      8\n",
       "Humid and Overcast                         7\n",
       "Windy and Foggy                            4\n",
       "Windy and Dry                              1\n",
       "Dangerously Windy and Partly Cloudy        1\n",
       "Breezy and Dry                             1\n",
       "Name: Summary, dtype: int64"
      ]
     },
     "execution_count": 17,
     "metadata": {},
     "output_type": "execute_result"
    }
   ],
   "source": [
    "dt1['Summary'].value_counts()"
   ]
  },
  {
   "cell_type": "code",
   "execution_count": 18,
   "id": "b6f893e6",
   "metadata": {},
   "outputs": [],
   "source": [
    "from sklearn.preprocessing import LabelEncoder"
   ]
  },
  {
   "cell_type": "code",
   "execution_count": 19,
   "id": "9a64991f",
   "metadata": {},
   "outputs": [],
   "source": [
    "encode=LabelEncoder()\n",
    "dt1['Precip Type']=encode.fit_transform(dt1['Precip Type'])\n",
    "dt1['Summary']=encode.fit_transform(dt1['Summary'])"
   ]
  },
  {
   "cell_type": "code",
   "execution_count": 20,
   "id": "74b650c8",
   "metadata": {},
   "outputs": [
    {
     "data": {
      "text/plain": [
       "array([0, 1])"
      ]
     },
     "execution_count": 20,
     "metadata": {},
     "output_type": "execute_result"
    }
   ],
   "source": [
    "dt1['Precip Type'].unique()"
   ]
  },
  {
   "cell_type": "code",
   "execution_count": 21,
   "id": "2b4e30a6",
   "metadata": {},
   "outputs": [
    {
     "data": {
      "image/png": "[encoded data removed]",
      "text/plain": [
       "<Figure size 1000x1000 with 2 Axes>"
      ]
     },
     "metadata": {},
     "output_type": "display_data"
    }
   ],
   "source": [
    "import seaborn as sns\n",
    "import matplotlib.pyplot as pt\n",
    "pt.figure(figsize=(10,10))\n",
    "sns.heatmap(dt1.corr(),annot=True)\n",
    "pt.show()"
   ]
  },
  {
   "cell_type": "code",
   "execution_count": 22,
   "id": "babdccda",
   "metadata": {},
   "outputs": [
    {
     "data": {
      "text/plain": [
       "0    85224\n",
       "1    10712\n",
       "Name: Precip Type, dtype: int64"
      ]
     },
     "execution_count": 22,
     "metadata": {},
     "output_type": "execute_result"
    }
   ],
   "source": [
    "features = dt1.drop(['Precip Type'], axis=1)\n",
    "target = dt1['Precip Type']\n",
    "target.value_counts()"
   ]
  },
  {
   "cell_type": "code",
   "execution_count": 23,
   "id": "d9d1cff2",
   "metadata": {},
   "outputs": [],
   "source": [
    "X_train, X_test,Y_train,Y_test = train_test_split(features,target,\n",
    "                                      test_size=0.2,\n",
    "                                      random_state=2)"
   ]
  },
  {
   "cell_type": "code",
   "execution_count": 24,
   "id": "02133d2e",
   "metadata": {},
   "outputs": [
    {
     "name": "stdout",
     "output_type": "stream",
     "text": [
      "(76748, 8)\n",
      "(19188, 8)\n",
      "(76748,)\n",
      "(19188,)\n"
     ]
    }
   ],
   "source": [
    "print(X_train.shape)\n",
    "print(X_test.shape)\n",
    "print(Y_train.shape)\n",
    "print(Y_test.shape)"
   ]
  },
  {
   "cell_type": "code",
   "execution_count": 25,
   "id": "a2351494",
   "metadata": {},
   "outputs": [
    {
     "data": {
      "text/html": [
       "<style>#sk-container-id-1 {color: black;background-color: white;}#sk-container-id-1 pre{padding: 0;}#sk-container-id-1 div.sk-toggleable {background-color: white;}#sk-container-id-1 label.sk-toggleable__label {cursor: pointer;display: block;width: 100%;margin-bottom: 0;padding: 0.3em;box-sizing: border-box;text-align: center;}#sk-container-id-1 label.sk-toggleable__label-arrow:before {content: \"▸\";float: left;margin-right: 0.25em;color: #696969;}#sk-container-id-1 label.sk-toggleable__label-arrow:hover:before {color: black;}#sk-container-id-1 div.sk-estimator:hover label.sk-toggleable__label-arrow:before {color: black;}#sk-container-id-1 div.sk-toggleable__content {max-height: 0;max-width: 0;overflow: hidden;text-align: left;background-color: #f0f8ff;}#sk-container-id-1 div.sk-toggleable__content pre {margin: 0.2em;color: black;border-radius: 0.25em;background-color: #f0f8ff;}#sk-container-id-1 input.sk-toggleable__control:checked~div.sk-toggleable__content {max-height: 200px;max-width: 100%;overflow: auto;}#sk-container-id-1 input.sk-toggleable__control:checked~label.sk-toggleable__label-arrow:before {content: \"▾\";}#sk-container-id-1 div.sk-estimator input.sk-toggleable__control:checked~label.sk-toggleable__label {background-color: #d4ebff;}#sk-container-id-1 div.sk-label input.sk-toggleable__control:checked~label.sk-toggleable__label {background-color: #d4ebff;}#sk-container-id-1 input.sk-hidden--visually {border: 0;clip: rect(1px 1px 1px 1px);clip: rect(1px, 1px, 1px, 1px);height: 1px;margin: -1px;overflow: hidden;padding: 0;position: absolute;width: 1px;}#sk-container-id-1 div.sk-estimator {font-family: monospace;background-color: #f0f8ff;border: 1px dotted black;border-radius: 0.25em;box-sizing: border-box;margin-bottom: 0.5em;}#sk-container-id-1 div.sk-estimator:hover {background-color: #d4ebff;}#sk-container-id-1 div.sk-parallel-item::after {content: \"\";width: 100%;border-bottom: 1px solid gray;flex-grow: 1;}#sk-container-id-1 div.sk-label:hover label.sk-toggleable__label {background-color: #d4ebff;}#sk-container-id-1 div.sk-serial::before {content: \"\";position: absolute;border-left: 1px solid gray;box-sizing: border-box;top: 0;bottom: 0;left: 50%;z-index: 0;}#sk-container-id-1 div.sk-serial {display: flex;flex-direction: column;align-items: center;background-color: white;padding-right: 0.2em;padding-left: 0.2em;position: relative;}#sk-container-id-1 div.sk-item {position: relative;z-index: 1;}#sk-container-id-1 div.sk-parallel {display: flex;align-items: stretch;justify-content: center;background-color: white;position: relative;}#sk-container-id-1 div.sk-item::before, #sk-container-id-1 div.sk-parallel-item::before {content: \"\";position: absolute;border-left: 1px solid gray;box-sizing: border-box;top: 0;bottom: 0;left: 50%;z-index: -1;}#sk-container-id-1 div.sk-parallel-item {display: flex;flex-direction: column;z-index: 1;position: relative;background-color: white;}#sk-container-id-1 div.sk-parallel-item:first-child::after {align-self: flex-end;width: 50%;}#sk-container-id-1 div.sk-parallel-item:last-child::after {align-self: flex-start;width: 50%;}#sk-container-id-1 div.sk-parallel-item:only-child::after {width: 0;}#sk-container-id-1 div.sk-dashed-wrapped {border: 1px dashed gray;margin: 0 0.4em 0.5em 0.4em;box-sizing: border-box;padding-bottom: 0.4em;background-color: white;}#sk-container-id-1 div.sk-label label {font-family: monospace;font-weight: bold;display: inline-block;line-height: 1.2em;}#sk-container-id-1 div.sk-label-container {text-align: center;}#sk-container-id-1 div.sk-container {/* jupyter's `normalize.less` sets `[hidden] { display: none; }` but bootstrap.min.css set `[hidden] { display: none !important; }` so we also need the `!important` here to be able to override the default hidden behavior on the sphinx rendered scikit-learn.org. See: https://github.com/scikit-learn/scikit-learn/issues/21755 */display: inline-block !important;position: relative;}#sk-container-id-1 div.sk-text-repr-fallback {display: none;}</style><div id=\"sk-container-id-1\" class=\"sk-top-container\"><div class=\"sk-text-repr-fallback\"><pre>XGBClassifier(base_score=None, booster=None, callbacks=None,\n",
       "              colsample_bylevel=None, colsample_bynode=None,\n",
       "              colsample_bytree=None, device=None, early_stopping_rounds=None,\n",
       "              enable_categorical=False, eval_metric=None, feature_types=None,\n",
       "              gamma=None, grow_policy=None, importance_type=None,\n",
       "              interaction_constraints=None, learning_rate=None, max_bin=None,\n",
       "              max_cat_threshold=None, max_cat_to_onehot=None,\n",
       "              max_delta_step=None, max_depth=None, max_leaves=None,\n",
       "              min_child_weight=None, missing=nan, monotone_constraints=None,\n",
       "              multi_strategy=None, n_estimators=None, n_jobs=None,\n",
       "              num_parallel_tree=None, random_state=None, ...)</pre><b>In a Jupyter environment, please rerun this cell to show the HTML representation or trust the notebook. <br />On GitHub, the HTML representation is unable to render, please try loading this page with nbviewer.org.</b></div><div class=\"sk-container\" hidden><div class=\"sk-item\"><div class=\"sk-estimator sk-toggleable\"><input class=\"sk-toggleable__control sk-hidden--visually\" id=\"sk-estimator-id-1\" type=\"checkbox\" checked><label for=\"sk-estimator-id-1\" class=\"sk-toggleable__label sk-toggleable__label-arrow\">XGBClassifier</label><div class=\"sk-toggleable__content\"><pre>XGBClassifier(base_score=None, booster=None, callbacks=None,\n",
       "              colsample_bylevel=None, colsample_bynode=None,\n",
       "              colsample_bytree=None, device=None, early_stopping_rounds=None,\n",
       "              enable_categorical=False, eval_metric=None, feature_types=None,\n",
       "              gamma=None, grow_policy=None, importance_type=None,\n",
       "              interaction_constraints=None, learning_rate=None, max_bin=None,\n",
       "              max_cat_threshold=None, max_cat_to_onehot=None,\n",
       "              max_delta_step=None, max_depth=None, max_leaves=None,\n",
       "              min_child_weight=None, missing=nan, monotone_constraints=None,\n",
       "              multi_strategy=None, n_estimators=None, n_jobs=None,\n",
       "              num_parallel_tree=None, random_state=None, ...)</pre></div></div></div></div></div>"
      ],
      "text/plain": [
       "XGBClassifier(base_score=None, booster=None, callbacks=None,\n",
       "              colsample_bylevel=None, colsample_bynode=None,\n",
       "              colsample_bytree=None, device=None, early_stopping_rounds=None,\n",
       "              enable_categorical=False, eval_metric=None, feature_types=None,\n",
       "              gamma=None, grow_policy=None, importance_type=None,\n",
       "              interaction_constraints=None, learning_rate=None, max_bin=None,\n",
       "              max_cat_threshold=None, max_cat_to_onehot=None,\n",
       "              max_delta_step=None, max_depth=None, max_leaves=None,\n",
       "              min_child_weight=None, missing=nan, monotone_constraints=None,\n",
       "              multi_strategy=None, n_estimators=None, n_jobs=None,\n",
       "              num_parallel_tree=None, random_state=None, ...)"
      ]
     },
     "execution_count": 25,
     "metadata": {},
     "output_type": "execute_result"
    }
   ],
   "source": [
    "reg=LogisticRegression()\n",
    "xgb=XGBClassifier()\n",
    "\n",
    "reg.fit(X_train, Y_train)\n",
    "xgb.fit(X_train, Y_train)"
   ]
  },
  {
   "cell_type": "code",
   "execution_count": 26,
   "id": "436a389e",
   "metadata": {},
   "outputs": [],
   "source": [
    "predict_reg=reg.predict(X_test)\n",
    "predict_xgb=xgb.predict(X_test)"
   ]
  },
  {
   "cell_type": "code",
   "execution_count": 27,
   "id": "1452c58e",
   "metadata": {},
   "outputs": [
    {
     "name": "stdout",
     "output_type": "stream",
     "text": [
      "[1 0 0 0 0 1 0 0 0 0 0 0 0 1 0 1 0 0 0]\n",
      "[1 0 0 0 0 1 0 0 0 0 0 0 0 1 0 1 0 0 0]\n"
     ]
    }
   ],
   "source": [
    "print(predict_reg[1:20])\n",
    "print(predict_xgb[1:20])"
   ]
  },
  {
   "cell_type": "code",
   "execution_count": 28,
   "id": "77d08a21",
   "metadata": {},
   "outputs": [],
   "source": [
    "score1=metrics.accuracy_score(Y_test,predict_reg)\n",
    "score2=metrics.accuracy_score(Y_test,predict_xgb)"
   ]
  },
  {
   "cell_type": "code",
   "execution_count": 29,
   "id": "d5800519",
   "metadata": {},
   "outputs": [
    {
     "name": "stdout",
     "output_type": "stream",
     "text": [
      "Score in LogisticRegression: 0.9965082343131123\n",
      "Score in XGB Classifier: 0.9986971023556389\n"
     ]
    }
   ],
   "source": [
    "print('Score in LogisticRegression:',score1)\n",
    "print('Score in XGB Classifier:',score2)"
   ]
  },
  {
   "cell_type": "code",
   "execution_count": 30,
   "id": "9deabbdc",
   "metadata": {},
   "outputs": [
    {
     "data": {
      "image/png": "[encoded data removed]",
      "text/plain": [
       "<Figure size 640x480 with 2 Axes>"
      ]
     },
     "metadata": {},
     "output_type": "display_data"
    }
   ],
   "source": [
    "con=metrics.confusion_matrix(Y_test,predict_reg)\n",
    "sns.heatmap(con,annot=True,cmap='Blues').set_title('Logistic Regression')\n",
    "pt.show()"
   ]
  },
  {
   "cell_type": "code",
   "execution_count": 31,
   "id": "c2edfa3e",
   "metadata": {},
   "outputs": [
    {
     "data": {
      "image/png": "[encoded data removed]",
      "text/plain": [
       "<Figure size 640x480 with 2 Axes>"
      ]
     },
     "metadata": {},
     "output_type": "display_data"
    }
   ],
   "source": [
    "con=metrics.confusion_matrix(Y_test,predict_xgb)\n",
    "sns.heatmap(con,annot=True,cmap='Blues').set_title('XG Boosting')\n",
    "pt.show()"
   ]
  },
  {
   "cell_type": "code",
   "execution_count": 32,
   "id": "fa7b35f7",
   "metadata": {},
   "outputs": [
    {
     "name": "stdout",
     "output_type": "stream",
     "text": [
      "\tLogistic Regression Classification Report\n",
      "\n",
      "              precision    recall  f1-score   support\n",
      "\n",
      "           0       1.00      1.00      1.00     17060\n",
      "           1       0.97      0.99      0.98      2128\n",
      "\n",
      "    accuracy                           1.00     19188\n",
      "   macro avg       0.99      1.00      0.99     19188\n",
      "weighted avg       1.00      1.00      1.00     19188\n",
      "\n"
     ]
    }
   ],
   "source": [
    "print('\\tLogistic Regression Classification Report\\n')\n",
    "print(metrics.classification_report(Y_test,predict_reg))"
   ]
  },
  {
   "cell_type": "code",
   "execution_count": 33,
   "id": "61f44982",
   "metadata": {},
   "outputs": [
    {
     "name": "stdout",
     "output_type": "stream",
     "text": [
      "\tXG Boosting Classification Report\n",
      "\n",
      "              precision    recall  f1-score   support\n",
      "\n",
      "           0       1.00      1.00      1.00     17060\n",
      "           1       0.99      1.00      0.99      2128\n",
      "\n",
      "    accuracy                           1.00     19188\n",
      "   macro avg       1.00      1.00      1.00     19188\n",
      "weighted avg       1.00      1.00      1.00     19188\n",
      "\n"
     ]
    }
   ],
   "source": [
    "print('\\tXG Boosting Classification Report\\n')\n",
    "print(metrics.classification_report(Y_test,predict_xgb))"
   ]
  },
  {
   "cell_type": "code",
   "execution_count": 34,
   "id": "b798742c",
   "metadata": {},
   "outputs": [
    {
     "data": {
      "text/plain": [
       "array([0, 1])"
      ]
     },
     "execution_count": 34,
     "metadata": {},
     "output_type": "execute_result"
    }
   ],
   "source": [
    "Y_test.unique()"
   ]
  },
  {
   "cell_type": "code",
   "execution_count": 35,
   "id": "136cb0d3",
   "metadata": {},
   "outputs": [
    {
     "data": {
      "text/plain": [
       "array([0, 1, 0, ..., 0, 0, 1])"
      ]
     },
     "execution_count": 35,
     "metadata": {},
     "output_type": "execute_result"
    }
   ],
   "source": [
    "predict_xgb"
   ]
  },
  {
   "cell_type": "code",
   "execution_count": 36,
   "id": "59ff98f3",
   "metadata": {},
   "outputs": [
    {
     "data": {
      "text/plain": [
       "Index(['Summary', 'Temperature (C)', 'Apparent Temperature (C)', 'Humidity',\n",
       "       'Wind Speed (km/h)', 'Wind Bearing (degrees)', 'Visibility (km)',\n",
       "       'Pressure (millibars)'],\n",
       "      dtype='object')"
      ]
     },
     "execution_count": 36,
     "metadata": {},
     "output_type": "execute_result"
    }
   ],
   "source": [
    "X_train.columns"
   ]
  },
  {
   "cell_type": "code",
   "execution_count": 38,
   "id": "b0a68c44",
   "metadata": {},
   "outputs": [
    {
     "name": "stdout",
     "output_type": "stream",
     "text": [
      "Enter your Summary Rate (0-26):4\n",
      "Enter your Temperature Rate:34\n",
      "Enter your App.Temperature Rate:45\n",
      "Enter your Humidity Rate:333\n",
      "Enter your wind speed Rate:455\n",
      "Enter your wind bearing Rate:34\n",
      "Enter your Visibility Rate:34\n",
      "Enter your Pressure Rate:23\n"
     ]
    }
   ],
   "source": [
    "summary=float(input('Enter your Summary Rate (0-26):'))\n",
    "temp=float(input('Enter your Temperature Rate:'))\n",
    "apperent=float(input('Enter your App.Temperature Rate:'))\n",
    "hum=float(input('Enter your Humidity Rate:'))\n",
    "wind=float(input('Enter your wind speed Rate:'))\n",
    "bearing=float(input('Enter your wind bearing Rate:'))\n",
    "vis=float(input('Enter your Visibility Rate:'))\n",
    "pressure=float(input('Enter your Pressure Rate:'))"
   ]
  },
  {
   "cell_type": "code",
   "execution_count": 39,
   "id": "e164d449",
   "metadata": {},
   "outputs": [
    {
     "name": "stdout",
     "output_type": "stream",
     "text": [
      "It is Rainy Time\n"
     ]
    }
   ],
   "source": [
    "new_1=np.array([summary,temp,apperent,hum,wind,bearing,vis,pressure])\n",
    "x_new_reshaped = new_1.reshape(1, -1)\n",
    "#print(x_new_reshaped)\n",
    "predictions_x = xgb.predict(x_new_reshaped)\n",
    "#predictions_r = reg.predict(x_new_reshaped)\n",
    "#print(predictions_r)\n",
    "#print(predictions_x)\n",
    "if predictions_x==0:\n",
    "    print('It is Rainy Time')\n",
    "elif predictions_x==1:\n",
    "    print('It is Snow Time')\n",
    "else:\n",
    "    print('Wrong Details')"
   ]
  },
  {
   "cell_type": "markdown",
   "id": "bd3ef3a9",
   "metadata": {},
   "source": [
    "## Project Explonation"
   ]
  },
  {
   "cell_type": "code",
   "execution_count": 42,
   "id": "91a93d22",
   "metadata": {},
   "outputs": [
    {
     "data": {
      "text/plain": [
       "array([0])"
      ]
     },
     "execution_count": 42,
     "metadata": {},
     "output_type": "execute_result"
    }
   ],
   "source": [
    "predictions = reg.predict(x_new_reshaped)\n",
    "predictions"
   ]
  },
  {
   "cell_type": "code",
   "execution_count": 43,
   "id": "fc6efb8a",
   "metadata": {},
   "outputs": [
    {
     "name": "stdout",
     "output_type": "stream",
     "text": [
      "If it is Rain\n"
     ]
    }
   ],
   "source": [
    "if predictions==0:\n",
    "    print('If it is Rain')\n",
    "elif predictions==1:\n",
    "    print('If it is Snow')\n",
    "else:\n",
    "    print('Wrong Details')"
   ]
  },
  {
   "cell_type": "markdown",
   "id": "ed60e614",
   "metadata": {},
   "source": [
    "This Python script appears to be a machine learning project focused on predicting weather conditions (rain or snow) based on various features like summary, temperature, humidity, wind speed, and so on. Let's break down the steps and provide an explanation suitable for interview preparation:\n",
    "\n",
    "1. **Importing Libraries**: The script starts by importing necessary libraries such as NumPy, Pandas, Matplotlib, Seaborn, Scikit-learn, XGBoost, and Imbalanced-learn.\n",
    "\n",
    "2. **Loading the Dataset**: The dataset is loaded using Pandas from a CSV file named 'weatherHistory.csv'. It's then displayed briefly using the `head()` method.\n",
    "\n",
    "3. **Data Exploration and Preprocessing**:\n",
    "   - `info()`: Provides information about the dataset, including the data types and number of non-null values in each column.\n",
    "   - `shape`: Gives the number of rows and columns in the dataset.\n",
    "   - `value_counts()`: Counts the occurrences of each unique value in the 'Precip Type' column.\n",
    "   - Handling missing values:\n",
    "     - Calculating the percentage of missing values for each column.\n",
    "     - Dropping rows with missing values.\n",
    "   - `describe()`: Provides summary statistics for numerical columns.\n",
    "   - Dropping unnecessary columns ('Loud Cover', 'Formatted Date', 'Daily Summary').\n",
    "   - Encoding categorical variables ('Precip Type' and 'Summary') using LabelEncoder.\n",
    "\n",
    "4. **Data Visualization**:\n",
    "   - Correlation heatmap using Seaborn's `heatmap()` function.\n",
    "\n",
    "5. **Feature Selection and Target Definition**:\n",
    "   - Defining features (independent variables) and target (dependent variable).\n",
    "   - Splitting the dataset into training and testing sets using `train_test_split()`.\n",
    "\n",
    "6. **Model Training**:\n",
    "   - Training two classifiers: Logistic Regression and XGBoost.\n",
    "\n",
    "7. **Model Evaluation**:\n",
    "   - Making predictions on the test set.\n",
    "   - Calculating accuracy scores using `accuracy_score()` from Scikit-learn.\n",
    "   - Generating confusion matrices using `confusion_matrix()` from Scikit-learn.\n",
    "   - Displaying classification reports using `classification_report()` from Scikit-learn.\n",
    "\n",
    "8. **User Input and Prediction**:\n",
    "   - Asking the user to input values for different weather-related features.\n",
    "   - Reshaping the input array and making predictions using the trained XGBoost model.\n",
    "   - Displaying the predicted weather condition based on the user's input.\n",
    "\n",
    "**Interview Preparation Explanation**:\n",
    "\n",
    "This script demonstrates various steps involved in a typical machine learning project, including data loading, exploration, preprocessing, visualization, model training, evaluation, and prediction. Understanding each step and the purpose of libraries and functions used is crucial.\n",
    "\n",
    "For interview preparation, you should be able to explain:\n",
    "\n",
    "- How to handle missing values in a dataset.\n",
    "- Why feature encoding is necessary and different techniques for encoding categorical variables.\n",
    "- How to split a dataset into training and testing sets and why it's important.\n",
    "- Interpretation of model evaluation metrics such as accuracy, confusion matrix, and classification report.\n",
    "- The significance of feature selection and how it impacts model performance.\n",
    "- The role of different machine learning algorithms used (Logistic Regression, XGBoost) and why they were chosen.\n",
    "- The overall workflow of a machine learning project from data loading to model deployment.\n",
    "- How to interpret a correlation heatmap and its relevance in feature selection.\n",
    "- Ways to improve model performance (e.g., hyperparameter tuning, feature engineering).\n",
    "\n",
    "Additionally, you should be able to discuss potential improvements to the project, such as using cross-validation, trying different algorithms, handling imbalanced data, and optimizing hyperparameters."
   ]
  },
  {
   "cell_type": "code",
   "execution_count": null,
   "id": "718e66c3",
   "metadata": {},
   "outputs": [],
   "source": [
    "dt.head(3)"
   ]
  },
  {
   "cell_type": "code",
   "execution_count": null,
   "id": "d188c547",
   "metadata": {},
   "outputs": [],
   "source": [
    "date=[]\n",
    "for i in dt['Formatted Date']:\n",
    "    date.append(i[0:10])"
   ]
  },
  {
   "cell_type": "code",
   "execution_count": null,
   "id": "b1ba1a9d",
   "metadata": {},
   "outputs": [],
   "source": [
    "dt['Formatted Date']=date"
   ]
  },
  {
   "cell_type": "code",
   "execution_count": null,
   "id": "50a6a19c",
   "metadata": {},
   "outputs": [],
   "source": [
    "dt['Formatted Date'] = pd.to_datetime(dt['Formatted Date'])"
   ]
  },
  {
   "cell_type": "code",
   "execution_count": null,
   "id": "2c426f48",
   "metadata": {},
   "outputs": [],
   "source": [
    "dt['month'] = dt['Formatted Date'].dt.strftime('%B')\n",
    "dt['year'] = dt['Formatted Date'].dt.year"
   ]
  },
  {
   "cell_type": "code",
   "execution_count": null,
   "id": "8b93f5b3",
   "metadata": {},
   "outputs": [],
   "source": [
    "dt.to_csv('Formatted_weather_new.csv')"
   ]
  },
  {
   "cell_type": "code",
   "execution_count": 44,
   "id": "8d0482df",
   "metadata": {},
   "outputs": [],
   "source": [
    "import pickle"
   ]
  },
  {
   "cell_type": "code",
   "execution_count": 47,
   "id": "26dd85ba",
   "metadata": {},
   "outputs": [],
   "source": [
    "pickle_out = open(\"xgb.pkl\", \"wb\") \n",
    "pickle.dump(xgb, pickle_out) \n",
    "pickle_out.close()"
   ]
  },
  {
   "cell_type": "code",
   "execution_count": null,
   "id": "e02c21c4",
   "metadata": {},
   "outputs": [],
   "source": []
  },
  {
   "cell_type": "code",
   "execution_count": null,
   "id": "92447e27",
   "metadata": {},
   "outputs": [],
   "source": []
  },
  {
   "cell_type": "code",
   "execution_count": null,
   "id": "9ac5077d",
   "metadata": {},
   "outputs": [],
   "source": []
  }
 ],
 "metadata": {
  "kernelspec": {
   "display_name": "Python 3 (ipykernel)",
   "language": "python",
   "name": "python3"
  },
  "language_info": {
   "codemirror_mode": {
    "name": "ipython",
    "version": 3
   },
   "file_extension": ".py",
   "mimetype": "text/x-python",
   "name": "python",
   "nbconvert_exporter": "python",
   "pygments_lexer": "ipython3",
   "version": "3.11.1"
  }
 },
 "nbformat": 4,
 "nbformat_minor": 5
}
