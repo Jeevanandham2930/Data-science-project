{
 "cells": [
  {
   "cell_type": "code",
   "execution_count": 167,
   "id": "08c6d552",
   "metadata": {},
   "outputs": [],
   "source": [
    "import pandas as pd\n",
    "import numpy as np\n",
    "import matplotlib.pyplot as plt\n",
    "import seaborn as sns\n",
    "import re\n",
    "import nltk\n",
    "from nltk.corpus import stopwords\n",
    "#nltk.download('stopwords')\n",
    "from nltk.stem import PorterStemmer\n",
    "from nltk.stem import WordNetLemmatizer\n",
    "#nltk.download('wordnet')\n",
    "from nltk.tokenize import word_tokenize\n",
    "from nltk.tokenize import sent_tokenize\n",
    "#nltk.download('punkt')\n",
    "#from wordcloud import WordCloud\n",
    "from sklearn.feature_extraction.text import CountVectorizer\n",
    "from sklearn.feature_extraction.text import TfidfVectorizer\n",
    "from sklearn.model_selection import train_test_split\n",
    "from sklearn.metrics import accuracy_score\n",
    "from sklearn.metrics import confusion_matrix\n",
    "from sklearn.metrics import classification_report\n",
    "from sklearn.metrics import make_scorer, roc_curve, roc_auc_score\n",
    "from sklearn.metrics import precision_recall_fscore_support as score\n",
    "from sklearn.metrics.pairwise import cosine_similarity\n",
    "from sklearn.multiclass import OneVsRestClassifier\n",
    "from sklearn.linear_model import LogisticRegression\n",
    "from sklearn.svm import SVC, LinearSVC\n",
    "from sklearn.tree import DecisionTreeClassifier\n",
    "from sklearn.ensemble import RandomForestClassifier\n",
    "from sklearn.neighbors import KNeighborsClassifier\n",
    "from sklearn.naive_bayes import GaussianNB,MultinomialNB,BernoulliNB"
   ]
  },
  {
   "cell_type": "code",
   "execution_count": 168,
   "id": "d87e8f1d",
   "metadata": {},
   "outputs": [],
   "source": [
    "data=pd.read_csv('BBC News Train.csv')"
   ]
  },
  {
   "cell_type": "code",
   "execution_count": 169,
   "id": "c8aee271",
   "metadata": {},
   "outputs": [
    {
     "data": {
      "text/html": [
       "<div>\n",
       "<style scoped>\n",
       "    .dataframe tbody tr th:only-of-type {\n",
       "        vertical-align: middle;\n",
       "    }\n",
       "\n",
       "    .dataframe tbody tr th {\n",
       "        vertical-align: top;\n",
       "    }\n",
       "\n",
       "    .dataframe thead th {\n",
       "        text-align: right;\n",
       "    }\n",
       "</style>\n",
       "<table border=\"1\" class=\"dataframe\">\n",
       "  <thead>\n",
       "    <tr style=\"text-align: right;\">\n",
       "      <th></th>\n",
       "      <th>ArticleId</th>\n",
       "      <th>Text</th>\n",
       "      <th>Category</th>\n",
       "    </tr>\n",
       "  </thead>\n",
       "  <tbody>\n",
       "    <tr>\n",
       "      <th>0</th>\n",
       "      <td>1833</td>\n",
       "      <td>worldcom ex-boss launches defence lawyers defe...</td>\n",
       "      <td>business</td>\n",
       "    </tr>\n",
       "    <tr>\n",
       "      <th>1</th>\n",
       "      <td>154</td>\n",
       "      <td>german business confidence slides german busin...</td>\n",
       "      <td>business</td>\n",
       "    </tr>\n",
       "    <tr>\n",
       "      <th>2</th>\n",
       "      <td>1101</td>\n",
       "      <td>bbc poll indicates economic gloom citizens in ...</td>\n",
       "      <td>business</td>\n",
       "    </tr>\n",
       "    <tr>\n",
       "      <th>3</th>\n",
       "      <td>1976</td>\n",
       "      <td>lifestyle  governs mobile choice  faster  bett...</td>\n",
       "      <td>tech</td>\n",
       "    </tr>\n",
       "    <tr>\n",
       "      <th>4</th>\n",
       "      <td>917</td>\n",
       "      <td>enron bosses in $168m payout eighteen former e...</td>\n",
       "      <td>business</td>\n",
       "    </tr>\n",
       "  </tbody>\n",
       "</table>\n",
       "</div>"
      ],
      "text/plain": [
       "   ArticleId                                               Text  Category\n",
       "0       1833  worldcom ex-boss launches defence lawyers defe...  business\n",
       "1        154  german business confidence slides german busin...  business\n",
       "2       1101  bbc poll indicates economic gloom citizens in ...  business\n",
       "3       1976  lifestyle  governs mobile choice  faster  bett...      tech\n",
       "4        917  enron bosses in $168m payout eighteen former e...  business"
      ]
     },
     "execution_count": 169,
     "metadata": {},
     "output_type": "execute_result"
    }
   ],
   "source": [
    "data.head()"
   ]
  },
  {
   "cell_type": "code",
   "execution_count": 170,
   "id": "3f6504a3",
   "metadata": {},
   "outputs": [
    {
     "data": {
      "text/plain": [
       "'blair rejects iraq advice calls tony blair has rejected calls for the publication of advice on the legality of the iraq war amid growing calls for an investigation.  the prime minister told his monthly press conference the matter had been dealt with by the attorney general. earlier  conservative mp michael mates joined calls for a probe into claims lord goldsmith s statement to parliament was drawn up at number 10. mr blair said the statement was a  fair summary  of lord goldsmith s opinion.   that s what he (lord goldsmith) said and that s what i say. he has dealt with this time and time and time again   mr blair told his monthly news conference in downing street. he refused to answer further questions on the issue  saying it had been dealt with  literally scores of times and the position has not changed . lord goldsmith has denied being  leaned on  and says the words written were his.  the government refuses to publish his advice on the legality of the war - saying such papers have always been kept confidential. mr mates  who is a member of the commons intelligence and security committee and was part of the butler inquiry into pre-war intelligence  told the bbc on friday:  that  as a general rule  is right  but it s not an absolute rule.  he said there had been other occasions when advice had been published  most recently regarding prince charles s marriage plans. the government could not pick and choose when to use the convention  he said.  mr mates added:  we discovered that there were two or three occasions in the past when law officers  advice to the government has been published.  and this may be one of those special occasions... when it would be in the public interest to see the advice which the attorney general gave to the prime minister.  this is argument was rejected by mr blair  who said:  firstly  we haven t broken the precedent  and secondly peter goldsmith has made his statement and i have got absolutely nothing to add to it.  in a book published this week  philippe sands qc  a member of cherie blair s matrix chambers  says lord goldsmith warned tony blair on 7 march 2003 that the iraq war could be illegal without a second un resolution sanctioning military action.  but a short statement about lord goldsmith s position was presented in a written parliamentary answer on 17 march 2003 - just before a crucial commons vote on the military action. mr sands  book suggests it was actually written by home office minister lord falconer and downing street adviser baroness morgan. former minister clare short  who resigned from the government over the iraq war  said it was the same statement that was earlier shown to the cabinet as it discussed military action. she told the bbc the full advice should have been attached  according to the ministerial code.   my view is we need the house of lords to set up a special committee  summon the attorney  get all the papers out  look at exactly what happened   she said. the conservatives and liberal democrats say they want the publication of the full legal advice given by the attorney general. on thursday  lord goldsmith said his statement had not been  written by or at number 10 .  in my parliamentary answer on march 17 2003  i explained my genuinely held independent view  that military action was lawful under the existing security council resolutions   he said.'"
      ]
     },
     "execution_count": 170,
     "metadata": {},
     "output_type": "execute_result"
    }
   ],
   "source": [
    "data.Text[10]"
   ]
  },
  {
   "cell_type": "code",
   "execution_count": 171,
   "id": "bd61414a",
   "metadata": {},
   "outputs": [
    {
     "data": {
      "text/plain": [
       "(1490, 3)"
      ]
     },
     "execution_count": 171,
     "metadata": {},
     "output_type": "execute_result"
    }
   ],
   "source": [
    "data.shape"
   ]
  },
  {
   "cell_type": "code",
   "execution_count": 172,
   "id": "479b3913",
   "metadata": {},
   "outputs": [
    {
     "name": "stdout",
     "output_type": "stream",
     "text": [
      "<class 'pandas.core.frame.DataFrame'>\n",
      "RangeIndex: 1490 entries, 0 to 1489\n",
      "Data columns (total 3 columns):\n",
      " #   Column     Non-Null Count  Dtype \n",
      "---  ------     --------------  ----- \n",
      " 0   ArticleId  1490 non-null   int64 \n",
      " 1   Text       1490 non-null   object\n",
      " 2   Category   1490 non-null   object\n",
      "dtypes: int64(1), object(2)\n",
      "memory usage: 35.0+ KB\n"
     ]
    }
   ],
   "source": [
    "data.info()"
   ]
  },
  {
   "cell_type": "code",
   "execution_count": 173,
   "id": "0bf8b0de",
   "metadata": {},
   "outputs": [
    {
     "data": {
      "text/plain": [
       "sport            346\n",
       "business         336\n",
       "politics         274\n",
       "entertainment    273\n",
       "tech             261\n",
       "Name: Category, dtype: int64"
      ]
     },
     "execution_count": 173,
     "metadata": {},
     "output_type": "execute_result"
    }
   ],
   "source": [
    "data['Category'].value_counts()"
   ]
  },
  {
   "cell_type": "code",
   "execution_count": 174,
   "id": "cd55eed7",
   "metadata": {},
   "outputs": [
    {
     "data": {
      "text/plain": [
       "array(['business', 'tech', 'politics', 'sport', 'entertainment'],\n",
       "      dtype=object)"
      ]
     },
     "execution_count": 174,
     "metadata": {},
     "output_type": "execute_result"
    }
   ],
   "source": [
    "t_cat=data['Category'].unique()\n",
    "t_cat"
   ]
  },
  {
   "cell_type": "code",
   "execution_count": 175,
   "id": "2443e47f",
   "metadata": {},
   "outputs": [],
   "source": [
    "data['CategoryId']=data['Category'].factorize()[0]"
   ]
  },
  {
   "cell_type": "code",
   "execution_count": 176,
   "id": "d75e97d1",
   "metadata": {},
   "outputs": [
    {
     "data": {
      "text/html": [
       "<div>\n",
       "<style scoped>\n",
       "    .dataframe tbody tr th:only-of-type {\n",
       "        vertical-align: middle;\n",
       "    }\n",
       "\n",
       "    .dataframe tbody tr th {\n",
       "        vertical-align: top;\n",
       "    }\n",
       "\n",
       "    .dataframe thead th {\n",
       "        text-align: right;\n",
       "    }\n",
       "</style>\n",
       "<table border=\"1\" class=\"dataframe\">\n",
       "  <thead>\n",
       "    <tr style=\"text-align: right;\">\n",
       "      <th></th>\n",
       "      <th>ArticleId</th>\n",
       "      <th>Text</th>\n",
       "      <th>Category</th>\n",
       "      <th>CategoryId</th>\n",
       "    </tr>\n",
       "  </thead>\n",
       "  <tbody>\n",
       "    <tr>\n",
       "      <th>0</th>\n",
       "      <td>1833</td>\n",
       "      <td>worldcom ex-boss launches defence lawyers defe...</td>\n",
       "      <td>business</td>\n",
       "      <td>0</td>\n",
       "    </tr>\n",
       "    <tr>\n",
       "      <th>1</th>\n",
       "      <td>154</td>\n",
       "      <td>german business confidence slides german busin...</td>\n",
       "      <td>business</td>\n",
       "      <td>0</td>\n",
       "    </tr>\n",
       "    <tr>\n",
       "      <th>2</th>\n",
       "      <td>1101</td>\n",
       "      <td>bbc poll indicates economic gloom citizens in ...</td>\n",
       "      <td>business</td>\n",
       "      <td>0</td>\n",
       "    </tr>\n",
       "    <tr>\n",
       "      <th>3</th>\n",
       "      <td>1976</td>\n",
       "      <td>lifestyle  governs mobile choice  faster  bett...</td>\n",
       "      <td>tech</td>\n",
       "      <td>1</td>\n",
       "    </tr>\n",
       "    <tr>\n",
       "      <th>4</th>\n",
       "      <td>917</td>\n",
       "      <td>enron bosses in $168m payout eighteen former e...</td>\n",
       "      <td>business</td>\n",
       "      <td>0</td>\n",
       "    </tr>\n",
       "  </tbody>\n",
       "</table>\n",
       "</div>"
      ],
      "text/plain": [
       "   ArticleId                                               Text  Category  \\\n",
       "0       1833  worldcom ex-boss launches defence lawyers defe...  business   \n",
       "1        154  german business confidence slides german busin...  business   \n",
       "2       1101  bbc poll indicates economic gloom citizens in ...  business   \n",
       "3       1976  lifestyle  governs mobile choice  faster  bett...      tech   \n",
       "4        917  enron bosses in $168m payout eighteen former e...  business   \n",
       "\n",
       "   CategoryId  \n",
       "0           0  \n",
       "1           0  \n",
       "2           0  \n",
       "3           1  \n",
       "4           0  "
      ]
     },
     "execution_count": 176,
     "metadata": {},
     "output_type": "execute_result"
    }
   ],
   "source": [
    "data.head()"
   ]
  },
  {
   "cell_type": "code",
   "execution_count": 177,
   "id": "bcdd3b5a",
   "metadata": {},
   "outputs": [
    {
     "data": {
      "text/html": [
       "<div>\n",
       "<style scoped>\n",
       "    .dataframe tbody tr th:only-of-type {\n",
       "        vertical-align: middle;\n",
       "    }\n",
       "\n",
       "    .dataframe tbody tr th {\n",
       "        vertical-align: top;\n",
       "    }\n",
       "\n",
       "    .dataframe thead th {\n",
       "        text-align: right;\n",
       "    }\n",
       "</style>\n",
       "<table border=\"1\" class=\"dataframe\">\n",
       "  <thead>\n",
       "    <tr style=\"text-align: right;\">\n",
       "      <th></th>\n",
       "      <th>Category</th>\n",
       "      <th>CategoryId</th>\n",
       "    </tr>\n",
       "  </thead>\n",
       "  <tbody>\n",
       "    <tr>\n",
       "      <th>0</th>\n",
       "      <td>business</td>\n",
       "      <td>0</td>\n",
       "    </tr>\n",
       "    <tr>\n",
       "      <th>3</th>\n",
       "      <td>tech</td>\n",
       "      <td>1</td>\n",
       "    </tr>\n",
       "    <tr>\n",
       "      <th>5</th>\n",
       "      <td>politics</td>\n",
       "      <td>2</td>\n",
       "    </tr>\n",
       "    <tr>\n",
       "      <th>6</th>\n",
       "      <td>sport</td>\n",
       "      <td>3</td>\n",
       "    </tr>\n",
       "    <tr>\n",
       "      <th>7</th>\n",
       "      <td>entertainment</td>\n",
       "      <td>4</td>\n",
       "    </tr>\n",
       "  </tbody>\n",
       "</table>\n",
       "</div>"
      ],
      "text/plain": [
       "        Category  CategoryId\n",
       "0       business           0\n",
       "3           tech           1\n",
       "5       politics           2\n",
       "6          sport           3\n",
       "7  entertainment           4"
      ]
     },
     "execution_count": 177,
     "metadata": {},
     "output_type": "execute_result"
    }
   ],
   "source": [
    "category = data[['Category', 'CategoryId']].drop_duplicates().sort_values('CategoryId')\n",
    "category"
   ]
  },
  {
   "cell_type": "code",
   "execution_count": 178,
   "id": "44b90f7d",
   "metadata": {},
   "outputs": [
    {
     "data": {
      "image/png": "[encoded data removed]",
      "text/plain": [
       "<Figure size 640x480 with 1 Axes>"
      ]
     },
     "metadata": {},
     "output_type": "display_data"
    }
   ],
   "source": [
    "data.groupby('Category').CategoryId.value_counts().plot(kind = \"bar\", color = [\"pink\", \"orange\", \"red\", \"yellow\", \"blue\"])\n",
    "plt.xlabel(\"Category of data\")\n",
    "plt.title(\"Visulaize numbers of Category of data\")\n",
    "plt.show()"
   ]
  },
  {
   "cell_type": "code",
   "execution_count": 179,
   "id": "0fb22cac",
   "metadata": {},
   "outputs": [
    {
     "data": {
      "image/png": "[encoded data removed]",
      "text/plain": [
       "<Figure size 500x500 with 1 Axes>"
      ]
     },
     "metadata": {},
     "output_type": "display_data"
    }
   ],
   "source": [
    "fig = plt.figure(figsize = (5,5))\n",
    "colors = [\"skyblue\"]\n",
    "business = data[data['CategoryId'] == 0 ]\n",
    "tech = data[data['CategoryId'] == 1 ]\n",
    "politics = data[data['CategoryId'] == 2]\n",
    "sport = data[data['CategoryId'] == 3]\n",
    "entertainment = data[data['CategoryId'] == 4]\n",
    "count = [business['CategoryId'].count(), tech['CategoryId'].count(), politics['CategoryId'].count(), sport['CategoryId'].count(), entertainment['CategoryId'].count()]\n",
    "pie = plt.pie(count, labels = ['business', 'tech', 'politics', 'sport', 'entertainment'],\n",
    "              autopct = \"%1.1f%%\",\n",
    "              shadow = True,\n",
    "              colors = colors,\n",
    "              startangle = 45,\n",
    "              explode = (0.05, 0.05, 0.05, 0.05,0.05))"
   ]
  },
  {
   "cell_type": "code",
   "execution_count": 180,
   "id": "944e8a99",
   "metadata": {},
   "outputs": [
    {
     "data": {
      "text/plain": [
       "0    worldcom ex-boss launches defence lawyers defe...\n",
       "1    german business confidence slides german busin...\n",
       "2    bbc poll indicates economic gloom citizens in ...\n",
       "3    lifestyle  governs mobile choice  faster  bett...\n",
       "4    enron bosses in $168m payout eighteen former e...\n",
       "5    howard  truanted to play snooker  conservative...\n",
       "6    wales silent on grand slam talk rhys williams ...\n",
       "7    french honour for director parker british film...\n",
       "8    car giant hit by mercedes slump a slump in pro...\n",
       "9    fockers fuel festive film chart comedy meet th...\n",
       "Name: Text, dtype: object"
      ]
     },
     "execution_count": 180,
     "metadata": {},
     "output_type": "execute_result"
    }
   ],
   "source": [
    "text = data[\"Text\"]\n",
    "text.head(10)"
   ]
  },
  {
   "cell_type": "code",
   "execution_count": 181,
   "id": "3a7fd5cd",
   "metadata": {},
   "outputs": [
    {
     "data": {
      "text/plain": [
       "0         business\n",
       "1         business\n",
       "2         business\n",
       "3             tech\n",
       "4         business\n",
       "5         politics\n",
       "6            sport\n",
       "7    entertainment\n",
       "8         business\n",
       "9    entertainment\n",
       "Name: Category, dtype: object"
      ]
     },
     "execution_count": 181,
     "metadata": {},
     "output_type": "execute_result"
    }
   ],
   "source": [
    "category = data['Category']\n",
    "category.head(10)"
   ]
  },
  {
   "cell_type": "code",
   "execution_count": 182,
   "id": "24f7dfd7",
   "metadata": {},
   "outputs": [],
   "source": [
    "def remove_tags(text):\n",
    "    remove = re.compile(r'')\n",
    "    return re.sub(remove, '', text)\n",
    "data['Text'] = data['Text'].apply(remove_tags)"
   ]
  },
  {
   "cell_type": "code",
   "execution_count": 183,
   "id": "13d2ca1b",
   "metadata": {},
   "outputs": [],
   "source": [
    "def special_char(text):\n",
    "    reviews = ''\n",
    "    for x in text:\n",
    "        if x.isalnum():\n",
    "            reviews = reviews + x\n",
    "        else:\n",
    "            reviews = reviews + ' '\n",
    "    return reviews\n",
    "data['Text'] = data['Text'].apply(special_char)"
   ]
  },
  {
   "cell_type": "code",
   "execution_count": 184,
   "id": "1fdfdda1",
   "metadata": {},
   "outputs": [
    {
     "data": {
      "text/plain": [
       "'german business confidence slides german business confidence fell in february knocking hopes of a speedy recovery in europe s largest economy   munich based research institute ifo said that its confidence index fell to 95 5 in february from 97 5 in january  its first decline in three months  the study found that the outlook in both the manufacturing and retail sectors had worsened  observers had been hoping that a more confident business sector would signal that economic activity was picking up    we re surprised that the ifo index has taken such a knock   said dz bank economist bernd weidensteiner   the main reason is probably that the domestic economy is still weak  particularly in the retail trade   economy and labour minister wolfgang clement called the dip in february s ifo confidence figure  a very mild decline   he said that despite the retreat  the index remained at a relatively high level and that he expected  a modest economic upswing  to continue   germany s economy grew 1 6  last year after shrinking in 2003  however  the economy contracted by 0 2  during the last three months of 2004  mainly due to the reluctance of consumers to spend  latest indications are that growth is still proving elusive and ifo president hans werner sinn said any improvement in german domestic demand was sluggish  exports had kept things going during the first half of 2004  but demand for exports was then hit as the value of the euro hit record levels making german products less competitive overseas  on top of that  the unemployment rate has been stuck at close to 10  and manufacturing firms  including daimlerchrysler  siemens and volkswagen  have been negotiating with unions over cost cutting measures  analysts said that the ifo figures and germany s continuing problems may delay an interest rate rise by the european central bank  eurozone interest rates are at 2   but comments from senior officials have recently focused on the threat of inflation  prompting fears that interest rates may rise '"
      ]
     },
     "execution_count": 184,
     "metadata": {},
     "output_type": "execute_result"
    }
   ],
   "source": [
    "def convert_lower(text):\n",
    "    return text.lower()\n",
    "data['Text'] = data['Text'].apply(convert_lower)\n",
    "data['Text'][1]"
   ]
  },
  {
   "cell_type": "code",
   "execution_count": 185,
   "id": "d9ab497d",
   "metadata": {},
   "outputs": [
    {
     "data": {
      "text/plain": [
       "['german',\n",
       " 'business',\n",
       " 'confidence',\n",
       " 'slides',\n",
       " 'german',\n",
       " 'business',\n",
       " 'confidence',\n",
       " 'fell',\n",
       " 'february',\n",
       " 'knocking',\n",
       " 'hopes',\n",
       " 'speedy',\n",
       " 'recovery',\n",
       " 'europe',\n",
       " 'largest',\n",
       " 'economy',\n",
       " 'munich',\n",
       " 'based',\n",
       " 'research',\n",
       " 'institute',\n",
       " 'ifo',\n",
       " 'said',\n",
       " 'confidence',\n",
       " 'index',\n",
       " 'fell',\n",
       " '95',\n",
       " '5',\n",
       " 'february',\n",
       " '97',\n",
       " '5',\n",
       " 'january',\n",
       " 'first',\n",
       " 'decline',\n",
       " 'three',\n",
       " 'months',\n",
       " 'study',\n",
       " 'found',\n",
       " 'outlook',\n",
       " 'manufacturing',\n",
       " 'retail',\n",
       " 'sectors',\n",
       " 'worsened',\n",
       " 'observers',\n",
       " 'hoping',\n",
       " 'confident',\n",
       " 'business',\n",
       " 'sector',\n",
       " 'would',\n",
       " 'signal',\n",
       " 'economic',\n",
       " 'activity',\n",
       " 'picking',\n",
       " 'surprised',\n",
       " 'ifo',\n",
       " 'index',\n",
       " 'taken',\n",
       " 'knock',\n",
       " 'said',\n",
       " 'dz',\n",
       " 'bank',\n",
       " 'economist',\n",
       " 'bernd',\n",
       " 'weidensteiner',\n",
       " 'main',\n",
       " 'reason',\n",
       " 'probably',\n",
       " 'domestic',\n",
       " 'economy',\n",
       " 'still',\n",
       " 'weak',\n",
       " 'particularly',\n",
       " 'retail',\n",
       " 'trade',\n",
       " 'economy',\n",
       " 'labour',\n",
       " 'minister',\n",
       " 'wolfgang',\n",
       " 'clement',\n",
       " 'called',\n",
       " 'dip',\n",
       " 'february',\n",
       " 'ifo',\n",
       " 'confidence',\n",
       " 'figure',\n",
       " 'mild',\n",
       " 'decline',\n",
       " 'said',\n",
       " 'despite',\n",
       " 'retreat',\n",
       " 'index',\n",
       " 'remained',\n",
       " 'relatively',\n",
       " 'high',\n",
       " 'level',\n",
       " 'expected',\n",
       " 'modest',\n",
       " 'economic',\n",
       " 'upswing',\n",
       " 'continue',\n",
       " 'germany',\n",
       " 'economy',\n",
       " 'grew',\n",
       " '1',\n",
       " '6',\n",
       " 'last',\n",
       " 'year',\n",
       " 'shrinking',\n",
       " '2003',\n",
       " 'however',\n",
       " 'economy',\n",
       " 'contracted',\n",
       " '0',\n",
       " '2',\n",
       " 'last',\n",
       " 'three',\n",
       " 'months',\n",
       " '2004',\n",
       " 'mainly',\n",
       " 'due',\n",
       " 'reluctance',\n",
       " 'consumers',\n",
       " 'spend',\n",
       " 'latest',\n",
       " 'indications',\n",
       " 'growth',\n",
       " 'still',\n",
       " 'proving',\n",
       " 'elusive',\n",
       " 'ifo',\n",
       " 'president',\n",
       " 'hans',\n",
       " 'werner',\n",
       " 'sinn',\n",
       " 'said',\n",
       " 'improvement',\n",
       " 'german',\n",
       " 'domestic',\n",
       " 'demand',\n",
       " 'sluggish',\n",
       " 'exports',\n",
       " 'kept',\n",
       " 'things',\n",
       " 'going',\n",
       " 'first',\n",
       " 'half',\n",
       " '2004',\n",
       " 'demand',\n",
       " 'exports',\n",
       " 'hit',\n",
       " 'value',\n",
       " 'euro',\n",
       " 'hit',\n",
       " 'record',\n",
       " 'levels',\n",
       " 'making',\n",
       " 'german',\n",
       " 'products',\n",
       " 'less',\n",
       " 'competitive',\n",
       " 'overseas',\n",
       " 'top',\n",
       " 'unemployment',\n",
       " 'rate',\n",
       " 'stuck',\n",
       " 'close',\n",
       " '10',\n",
       " 'manufacturing',\n",
       " 'firms',\n",
       " 'including',\n",
       " 'daimlerchrysler',\n",
       " 'siemens',\n",
       " 'volkswagen',\n",
       " 'negotiating',\n",
       " 'unions',\n",
       " 'cost',\n",
       " 'cutting',\n",
       " 'measures',\n",
       " 'analysts',\n",
       " 'said',\n",
       " 'ifo',\n",
       " 'figures',\n",
       " 'germany',\n",
       " 'continuing',\n",
       " 'problems',\n",
       " 'may',\n",
       " 'delay',\n",
       " 'interest',\n",
       " 'rate',\n",
       " 'rise',\n",
       " 'european',\n",
       " 'central',\n",
       " 'bank',\n",
       " 'eurozone',\n",
       " 'interest',\n",
       " 'rates',\n",
       " '2',\n",
       " 'comments',\n",
       " 'senior',\n",
       " 'officials',\n",
       " 'recently',\n",
       " 'focused',\n",
       " 'threat',\n",
       " 'inflation',\n",
       " 'prompting',\n",
       " 'fears',\n",
       " 'interest',\n",
       " 'rates',\n",
       " 'may',\n",
       " 'rise']"
      ]
     },
     "execution_count": 185,
     "metadata": {},
     "output_type": "execute_result"
    }
   ],
   "source": [
    "def remove_stopwords(text):\n",
    "    stop_words = set(stopwords.words('english'))\n",
    "    words = word_tokenize(text)\n",
    "    return [x for x in words if x not in stop_words]\n",
    "data['Text'] = data['Text'].apply(remove_stopwords)\n",
    "data['Text'][1]"
   ]
  },
  {
   "cell_type": "code",
   "execution_count": 186,
   "id": "3367145f",
   "metadata": {},
   "outputs": [
    {
     "data": {
      "text/plain": [
       "'german business confidence slide german business confidence fell february knocking hope speedy recovery europe largest economy munich based research institute ifo said confidence index fell 95 5 february 97 5 january first decline three month study found outlook manufacturing retail sector worsened observer hoping confident business sector would signal economic activity picking surprised ifo index taken knock said dz bank economist bernd weidensteiner main reason probably domestic economy still weak particularly retail trade economy labour minister wolfgang clement called dip february ifo confidence figure mild decline said despite retreat index remained relatively high level expected modest economic upswing continue germany economy grew 1 6 last year shrinking 2003 however economy contracted 0 2 last three month 2004 mainly due reluctance consumer spend latest indication growth still proving elusive ifo president han werner sinn said improvement german domestic demand sluggish export kept thing going first half 2004 demand export hit value euro hit record level making german product le competitive overseas top unemployment rate stuck close 10 manufacturing firm including daimlerchrysler siemens volkswagen negotiating union cost cutting measure analyst said ifo figure germany continuing problem may delay interest rate rise european central bank eurozone interest rate 2 comment senior official recently focused threat inflation prompting fear interest rate may rise'"
      ]
     },
     "execution_count": 186,
     "metadata": {},
     "output_type": "execute_result"
    }
   ],
   "source": [
    "def lemmatize_word(text):\n",
    "    wordnet = WordNetLemmatizer()\n",
    "    return \" \".join([wordnet.lemmatize(word) for word in text])\n",
    "data['Text'] = data['Text'].apply(lemmatize_word)\n",
    "data['Text'][1]"
   ]
  },
  {
   "cell_type": "code",
   "execution_count": 21,
   "id": "8cb82db8",
   "metadata": {},
   "outputs": [
    {
     "data": {
      "text/html": [
       "<div>\n",
       "<style scoped>\n",
       "    .dataframe tbody tr th:only-of-type {\n",
       "        vertical-align: middle;\n",
       "    }\n",
       "\n",
       "    .dataframe tbody tr th {\n",
       "        vertical-align: top;\n",
       "    }\n",
       "\n",
       "    .dataframe thead th {\n",
       "        text-align: right;\n",
       "    }\n",
       "</style>\n",
       "<table border=\"1\" class=\"dataframe\">\n",
       "  <thead>\n",
       "    <tr style=\"text-align: right;\">\n",
       "      <th></th>\n",
       "      <th>ArticleId</th>\n",
       "      <th>Text</th>\n",
       "      <th>Category</th>\n",
       "      <th>CategoryId</th>\n",
       "    </tr>\n",
       "  </thead>\n",
       "  <tbody>\n",
       "    <tr>\n",
       "      <th>0</th>\n",
       "      <td>1833</td>\n",
       "      <td>worldcom ex bos launch defence lawyer defendin...</td>\n",
       "      <td>business</td>\n",
       "      <td>0</td>\n",
       "    </tr>\n",
       "    <tr>\n",
       "      <th>1</th>\n",
       "      <td>154</td>\n",
       "      <td>german business confidence slide german busine...</td>\n",
       "      <td>business</td>\n",
       "      <td>0</td>\n",
       "    </tr>\n",
       "    <tr>\n",
       "      <th>2</th>\n",
       "      <td>1101</td>\n",
       "      <td>bbc poll indicates economic gloom citizen majo...</td>\n",
       "      <td>business</td>\n",
       "      <td>0</td>\n",
       "    </tr>\n",
       "    <tr>\n",
       "      <th>3</th>\n",
       "      <td>1976</td>\n",
       "      <td>lifestyle governs mobile choice faster better ...</td>\n",
       "      <td>tech</td>\n",
       "      <td>1</td>\n",
       "    </tr>\n",
       "    <tr>\n",
       "      <th>4</th>\n",
       "      <td>917</td>\n",
       "      <td>enron boss 168m payout eighteen former enron d...</td>\n",
       "      <td>business</td>\n",
       "      <td>0</td>\n",
       "    </tr>\n",
       "  </tbody>\n",
       "</table>\n",
       "</div>"
      ],
      "text/plain": [
       "   ArticleId                                               Text  Category  \\\n",
       "0       1833  worldcom ex bos launch defence lawyer defendin...  business   \n",
       "1        154  german business confidence slide german busine...  business   \n",
       "2       1101  bbc poll indicates economic gloom citizen majo...  business   \n",
       "3       1976  lifestyle governs mobile choice faster better ...      tech   \n",
       "4        917  enron boss 168m payout eighteen former enron d...  business   \n",
       "\n",
       "   CategoryId  \n",
       "0           0  \n",
       "1           0  \n",
       "2           0  \n",
       "3           1  \n",
       "4           0  "
      ]
     },
     "execution_count": 21,
     "metadata": {},
     "output_type": "execute_result"
    }
   ],
   "source": [
    "data.head()"
   ]
  },
  {
   "cell_type": "code",
   "execution_count": 22,
   "id": "89059d1e",
   "metadata": {},
   "outputs": [],
   "source": [
    "x = data['Text']\n",
    "y = data['CategoryId']"
   ]
  },
  {
   "cell_type": "code",
   "execution_count": 33,
   "id": "a85d6eac",
   "metadata": {},
   "outputs": [
    {
     "name": "stdout",
     "output_type": "stream",
     "text": [
      "x.shape =  (1490, 5000)\n",
      "y.shape =  (1490,)\n"
     ]
    }
   ],
   "source": [
    "from sklearn.feature_extraction.text import CountVectorizer\n",
    "x = np.array(data.iloc[:,0].values)\n",
    "y = np.array(data.CategoryId.values)\n",
    "cv = CountVectorizer(max_features = 5000)\n",
    "x = cv.fit_transform(data.Text).toarray()\n",
    "print(\"x.shape = \",x.shape)\n",
    "print(\"y.shape = \",y.shape)"
   ]
  },
  {
   "cell_type": "code",
   "execution_count": 34,
   "id": "a80fba8e",
   "metadata": {},
   "outputs": [
    {
     "data": {
      "text/plain": [
       "array([[0, 0, 0, ..., 0, 0, 0],\n",
       "       [1, 0, 0, ..., 0, 0, 0],\n",
       "       [1, 0, 0, ..., 0, 0, 0],\n",
       "       ...,\n",
       "       [0, 0, 0, ..., 0, 0, 0],\n",
       "       [0, 0, 0, ..., 0, 0, 0],\n",
       "       [0, 0, 0, ..., 0, 0, 0]], dtype=int64)"
      ]
     },
     "execution_count": 34,
     "metadata": {},
     "output_type": "execute_result"
    }
   ],
   "source": [
    "x[1:15]"
   ]
  },
  {
   "cell_type": "code",
   "execution_count": 35,
   "id": "8a68ed26",
   "metadata": {},
   "outputs": [
    {
     "data": {
      "text/plain": [
       "array([[0, 0, 0, ..., 0, 0, 0],\n",
       "       [1, 0, 0, ..., 0, 0, 0],\n",
       "       [1, 0, 0, ..., 0, 0, 0],\n",
       "       ...,\n",
       "       [0, 0, 0, ..., 0, 0, 0],\n",
       "       [0, 0, 0, ..., 0, 0, 0],\n",
       "       [0, 0, 0, ..., 0, 0, 0]], dtype=int64)"
      ]
     },
     "execution_count": 35,
     "metadata": {},
     "output_type": "execute_result"
    }
   ],
   "source": [
    "X[1:15]"
   ]
  },
  {
   "cell_type": "code",
   "execution_count": 36,
   "id": "055b16a5",
   "metadata": {},
   "outputs": [
    {
     "name": "stdout",
     "output_type": "stream",
     "text": [
      "1043\n",
      "447\n"
     ]
    }
   ],
   "source": [
    "from sklearn.model_selection import train_test_split\n",
    "x_train, x_test, y_train, y_test = train_test_split(x, y, test_size = 0.3, random_state = 0, shuffle = True)\n",
    "print(len(x_train))\n",
    "print(len(x_test))"
   ]
  },
  {
   "cell_type": "markdown",
   "id": "497cb274",
   "metadata": {},
   "source": [
    "**MODEL SELECTION**"
   ]
  },
  {
   "cell_type": "code",
   "execution_count": 40,
   "id": "589f755b",
   "metadata": {},
   "outputs": [
    {
     "name": "stdout",
     "output_type": "stream",
     "text": [
      "Test Accuracy Score of Basic Logistic Regression: % 97.09\n",
      "Precision : 0.970917225950783\n",
      "Recall : 0.970917225950783\n",
      "F1-score : 0.9709172259507831\n",
      "---------****--------------\n",
      "Test Accuracy Score of Basic Random Forest: % 97.99\n",
      "Precision : 0.9798657718120806\n",
      "Recall : 0.9798657718120806\n",
      "F1-score : 0.9798657718120806\n",
      "---------****--------------\n",
      "Test Accuracy Score of Basic Multinomial Naive Bayes: % 97.09\n",
      "Precision : 0.970917225950783\n",
      "Recall : 0.970917225950783\n",
      "F1-score : 0.9709172259507831\n",
      "---------****--------------\n",
      "Test Accuracy Score of Basic Decision Tree Classifier: % 83.22\n",
      "Precision : 0.8322147651006712\n",
      "Recall : 0.8322147651006712\n",
      "F1-score : 0.8322147651006712\n",
      "---------****--------------\n",
      "Test Accuracy Score of Basic Gaussian Naive Bayes: % 76.06\n",
      "Precision : 0.7606263982102909\n",
      "Recall : 0.7606263982102909\n",
      "F1-score : 0.7606263982102909\n",
      "---------****--------------\n"
     ]
    }
   ],
   "source": [
    "perform_list = [ ]\n",
    "\n",
    "def run_model(model_name, est_c, est_pnlty):\n",
    "    mdl=''\n",
    "    if model_name == 'Logistic Regression':\n",
    "\n",
    "        mdl = LogisticRegression()\n",
    "\n",
    "    elif model_name == 'Random Forest':\n",
    "\n",
    "        mdl = RandomForestClassifier(n_estimators=100 ,criterion='entropy' , random_state=0)\n",
    "\n",
    "    elif model_name == 'Multinomial Naive Bayes':\n",
    "\n",
    "        mdl = MultinomialNB(alpha=1.0,fit_prior=True)\n",
    "\n",
    "    elif model_name == 'Decision Tree Classifier':\n",
    "\n",
    "        mdl = DecisionTreeClassifier()\n",
    "\n",
    "    elif model_name == 'Gaussian Naive Bayes':\n",
    "\n",
    "        mdl = GaussianNB()\n",
    "\n",
    "    oneVsRest = OneVsRestClassifier(mdl)\n",
    "\n",
    "    oneVsRest.fit(x_train, y_train)\n",
    "    \n",
    "    y_pred = oneVsRest.predict(x_test)\n",
    "\n",
    "# Performance metrics\n",
    "    accuracy = round(accuracy_score(y_test, y_pred) * 100, 2)\n",
    "\n",
    "# Get precision, recall, f1 scores\n",
    "\n",
    "    precision, recall, f1score, support = score(y_test, y_pred, average='micro')\n",
    "\n",
    "    print(f'Test Accuracy Score of Basic {model_name}: % {accuracy}')\n",
    "\n",
    "    print(f'Precision : {precision}')\n",
    "\n",
    "    print(f'Recall : {recall}')\n",
    "\n",
    "    print(f'F1-score : {f1score}')\n",
    "    \n",
    "    print('---------****--------------')\n",
    "\n",
    "# Add performance parameters to list\n",
    "\n",
    "    perform_list.append(dict([\n",
    "\n",
    "    ('Model', model_name),\n",
    "\n",
    "    ('Test Accuracy', round(accuracy, 2)),\n",
    "\n",
    "    ('Precision', round(precision, 2)),\n",
    "\n",
    "    ('Recall', round(recall, 2)),\n",
    "\n",
    "    ('F1', round(f1score, 2))]))\n",
    "#Logistic Regression\n",
    "run_model('Logistic Regression', est_c=None, est_pnlty=None)\n",
    "run_model('Random Forest', est_c=None, est_pnlty=None)\n",
    "run_model('Multinomial Naive Bayes', est_c=None, est_pnlty=None)\n",
    "run_model('Decision Tree Classifier', est_c=None, est_pnlty=None)\n",
    "run_model('Gaussian Naive Bayes', est_c=None, est_pnlty=None)"
   ]
  },
  {
   "cell_type": "code",
   "execution_count": 41,
   "id": "007c3830",
   "metadata": {},
   "outputs": [
    {
     "data": {
      "text/html": [
       "<div>\n",
       "<style scoped>\n",
       "    .dataframe tbody tr th:only-of-type {\n",
       "        vertical-align: middle;\n",
       "    }\n",
       "\n",
       "    .dataframe tbody tr th {\n",
       "        vertical-align: top;\n",
       "    }\n",
       "\n",
       "    .dataframe thead th {\n",
       "        text-align: right;\n",
       "    }\n",
       "</style>\n",
       "<table border=\"1\" class=\"dataframe\">\n",
       "  <thead>\n",
       "    <tr style=\"text-align: right;\">\n",
       "      <th></th>\n",
       "      <th>Model</th>\n",
       "      <th>Test Accuracy</th>\n",
       "      <th>Precision</th>\n",
       "      <th>Recall</th>\n",
       "      <th>F1</th>\n",
       "    </tr>\n",
       "  </thead>\n",
       "  <tbody>\n",
       "    <tr>\n",
       "      <th>0</th>\n",
       "      <td>Logistic Regression</td>\n",
       "      <td>97.09</td>\n",
       "      <td>0.97</td>\n",
       "      <td>0.97</td>\n",
       "      <td>0.97</td>\n",
       "    </tr>\n",
       "    <tr>\n",
       "      <th>1</th>\n",
       "      <td>Random Forest</td>\n",
       "      <td>97.99</td>\n",
       "      <td>0.98</td>\n",
       "      <td>0.98</td>\n",
       "      <td>0.98</td>\n",
       "    </tr>\n",
       "    <tr>\n",
       "      <th>2</th>\n",
       "      <td>Multinomial Naive Bayes</td>\n",
       "      <td>97.09</td>\n",
       "      <td>0.97</td>\n",
       "      <td>0.97</td>\n",
       "      <td>0.97</td>\n",
       "    </tr>\n",
       "    <tr>\n",
       "      <th>3</th>\n",
       "      <td>Decision Tree Classifier</td>\n",
       "      <td>83.22</td>\n",
       "      <td>0.83</td>\n",
       "      <td>0.83</td>\n",
       "      <td>0.83</td>\n",
       "    </tr>\n",
       "    <tr>\n",
       "      <th>4</th>\n",
       "      <td>Gaussian Naive Bayes</td>\n",
       "      <td>76.06</td>\n",
       "      <td>0.76</td>\n",
       "      <td>0.76</td>\n",
       "      <td>0.76</td>\n",
       "    </tr>\n",
       "  </tbody>\n",
       "</table>\n",
       "</div>"
      ],
      "text/plain": [
       "                      Model  Test Accuracy  Precision  Recall    F1\n",
       "0       Logistic Regression          97.09       0.97    0.97  0.97\n",
       "1             Random Forest          97.99       0.98    0.98  0.98\n",
       "2   Multinomial Naive Bayes          97.09       0.97    0.97  0.97\n",
       "3  Decision Tree Classifier          83.22       0.83    0.83  0.83\n",
       "4      Gaussian Naive Bayes          76.06       0.76    0.76  0.76"
      ]
     },
     "execution_count": 41,
     "metadata": {},
     "output_type": "execute_result"
    }
   ],
   "source": [
    "model_performance = pd.DataFrame(data=perform_list)\n",
    "model_performance = model_performance[['Model', 'Test Accuracy', 'Precision', 'Recall', 'F1']]\n",
    "model_performance"
   ]
  },
  {
   "cell_type": "code",
   "execution_count": 42,
   "id": "d5cc85b1",
   "metadata": {},
   "outputs": [
    {
     "name": "stdout",
     "output_type": "stream",
     "text": [
      "The best accuracy of model is 97.99 from Random\n"
     ]
    }
   ],
   "source": [
    "model = model_performance[\"Model\"]\n",
    "max_value = model_performance[\"Test Accuracy\"].max()\n",
    "print(\"The best accuracy of model is\", max_value,\"from Random\")"
   ]
  },
  {
   "cell_type": "code",
   "execution_count": 43,
   "id": "fd540df5",
   "metadata": {},
   "outputs": [],
   "source": [
    "classifier = RandomForestClassifier(n_estimators=100 ,criterion='entropy' , random_state=0).fit(x_train, y_train)\n",
    "classifier\n",
    "y_pred = classifier.predict(x_test)"
   ]
  },
  {
   "cell_type": "code",
   "execution_count": 121,
   "id": "e9fcb474",
   "metadata": {},
   "outputs": [
    {
     "name": "stdout",
     "output_type": "stream",
     "text": [
      "Enter Your News:\n",
      "        'bt boost broadband package british telecom said double broadband speed home business customer increased speed come extra charge follows similar move internet service provider aol many bt customer download speed 2mbps although usage allowance one gigabyte 30 gigabyte month new speed start come effect 17 february home customer 1 april business britain broadband britain said duncan ingram bt managing director broadband internet service added ninety percent customer see real increase speed speed increase give people opportunity lot broadband connection said upload speed speed information sent pc via broadband remain speed said mr ingram despite increase bt continue usage allowance home customer allowance extremely generous said mr ingram seeing market place really issue bt begin enforcing allowance summer customer exceed amount either able pay bigger allowance see download speed reduced bt 36 share broadband market 39 becoming increasingly competitive last month many rival isps begun offer 2mbps service including aol plusnet uk online britain continues lag behind country especially japan south korea offer broadband speed 40mbps mr ingram said important separate hype reality said limited number people connection consistently received speed 40mbps customer see connection double immediately 17 february mr ingram said would roll across network order prevent problem',\n",
      "--------------------------\n",
      "This is the: Tech News\n",
      "--------------------------\n"
     ]
    }
   ],
   "source": [
    "y_pred1 = cv.transform([input('Enter Your News:\\n')])\n",
    "yy = classifier.predict(y_pred1)\n",
    "result = \"\"\n",
    "if yy == [0]:\n",
    "    print('--------------------------')\n",
    "    result = \"Business News\"\n",
    "elif yy == [1]:\n",
    "    print('--------------------------')\n",
    "    result = \"Tech News\"\n",
    "elif yy == [2]:\n",
    "    print('--------------------------')\n",
    "    result = \"Politics News\"\n",
    "elif yy == [3]:\n",
    "    print('--------------------------')\n",
    "    result = \"Sports News\"\n",
    "elif yy == [1]:\n",
    "    print('--------------------------')\n",
    "    result = \"Entertainment News\"\n",
    "    \n",
    "print('This is the:',result)\n",
    "print('--------------------------')"
   ]
  },
  {
   "cell_type": "code",
   "execution_count": 122,
   "id": "1904d772",
   "metadata": {},
   "outputs": [
    {
     "data": {
      "text/plain": [
       "array([[1833,\n",
       "        'worldcom ex bos launch defence lawyer defending former worldcom chief bernie ebbers battery fraud charge called company whistleblower first witness cynthia cooper worldcom ex head internal accounting alerted director irregular accounting practice u telecom giant 2002 warning led collapse firm following discovery 11bn 5 7bn accounting fraud mr ebbers pleaded guilty charge fraud conspiracy prosecution lawyer argued mr ebbers orchestrated series accounting trick worldcom ordering employee hide expense inflate revenue meet wall street earnings estimate m cooper run consulting business told jury new york wednesday external auditor arthur andersen approved worldcom accounting early 2001 2002 said andersen given green light procedure practice used worldcom mr ebber lawyer said unaware fraud arguing auditor alert problem m cooper also said shareholder meeting mr ebbers often passed technical question company finance chief giving brief answer prosecution star witness former worldcom financial chief scott sullivan said mr ebbers ordered accounting adjustment firm telling hit book however m cooper said mr sullivan mentioned anything uncomfortable worldcom accounting 2001 audit committee meeting mr ebbers could face jail sentence 85 year convicted charge facing worldcom emerged bankruptcy protection 2004 known mci last week mci agreed buyout verizon communication deal valued 6 75bn',\n",
       "        'business', 0],\n",
       "       [154,\n",
       "        'german business confidence slide german business confidence fell february knocking hope speedy recovery europe largest economy munich based research institute ifo said confidence index fell 95 5 february 97 5 january first decline three month study found outlook manufacturing retail sector worsened observer hoping confident business sector would signal economic activity picking surprised ifo index taken knock said dz bank economist bernd weidensteiner main reason probably domestic economy still weak particularly retail trade economy labour minister wolfgang clement called dip february ifo confidence figure mild decline said despite retreat index remained relatively high level expected modest economic upswing continue germany economy grew 1 6 last year shrinking 2003 however economy contracted 0 2 last three month 2004 mainly due reluctance consumer spend latest indication growth still proving elusive ifo president han werner sinn said improvement german domestic demand sluggish export kept thing going first half 2004 demand export hit value euro hit record level making german product le competitive overseas top unemployment rate stuck close 10 manufacturing firm including daimlerchrysler siemens volkswagen negotiating union cost cutting measure analyst said ifo figure germany continuing problem may delay interest rate rise european central bank eurozone interest rate 2 comment senior official recently focused threat inflation prompting fear interest rate may rise',\n",
       "        'business', 0],\n",
       "       [1101,\n",
       "        'bbc poll indicates economic gloom citizen majority nation surveyed bbc world service poll believe world economy worsening respondent also said national economy getting worse asked family financial outlook majority 14 country said positive future almost 23 000 people 22 country questioned poll mostly conducted asian tsunami disaster poll found majority plurality people 13 country believed economy going downhill compared respondent nine country believed improving surveyed three country split percentage term average 44 respondent country said world economy getting worse compared 34 said improving similarly 48 pessimistic national economy 41 optimistic 47 saw family economic condition improving 36 said getting worse poll 22 953 people conducted international polling firm globescan together program international policy attitude pipa university maryland world economy picked difficult time year ago people seem fully absorbed development though personally experiencing effect said pipa director steven kull people around world saying ok world may perception war terrorism religious political division making world worse place even though far reflected global economic performance say bbc elizabeth blunt country people optimistic world family two fast growing developing economy china india followed indonesia china seen two decade blistering economic growth led wealth creation huge scale say bbc louisa lim beijing result also may reflect untrammelled confidence people subject endless government propaganda country rosy economic future correspondent say south korea pessimistic respondent italy mexico also quite gloomy bbc david willey rome say one reason result changeover lira euro 2001 widely viewed biggest reason wage salary worth le used philippine among upbeat country prospect respondent family one pessimistic world economy pipa conducted poll 15 november 2004 3 january 2005 across 22 country face face telephone interview interview took place 15 november 2004 5 january 2005 margin error 2 5 4 point depending country eight country sample limited major metropolitan area',\n",
       "        'business', 0],\n",
       "       ...,\n",
       "       [1124,\n",
       "        'qantas see profit fly record australian airline qantas posted record fiscal first half profit thanks cost cutting measure net profit six month ending 31 december rose 28 458 4m 357 6m 191m year earlier analyst expected figure closer 431m qantas share fell almost 3 however warned earnings growth would slow second half sale dip least 30m indian ocean tsunami devastated many holiday destination qantas said tsunami affected travel pattern way bit surprised chief executive geoff dixon explained certainly affected japanese travel australia soon tsunami hit saw lessening booking australia higher fuel cost also expected eat earnings coming month much hedging benefit second half first said chief financial officer peter gregg qantas facing increased pressure rival low cost carrier virgin blue australian government talk whether allow singapore airline fly australia u one qantas key route even firm predicting full year earnings increase previous 12 month analyst forecast full year profit rise 11 around 720 million 563 million qantas bos mr dixon also said would reviewing group cost cutting measure first six month fiscal year qantas made saving 245m track top target 500m full year last month company warned may transfer many 7 000 job australia mr dixon quoted saying carrier could longer afford remain australian',\n",
       "        'business', 0],\n",
       "       [1774,\n",
       "        'hyundai build new india plant south korea hyundai motor announced plan build second plant india meet country growing demand car company give detail investment said new plant would produce 150 000 car year boost annual production capacity company india second largest car manufacturer 400 000 unit hyundai expects sale india grow 16 250 000 2005 2010 expects nearly double sale 400 000 car new plant built close existing one chennai southern province tamil nadu south korea top car maker estimate indian market grow 15 year 920 000 vehicle reaching 1 6 million vehicle 2010 demand india driven poor state public transport low level car ownership analyst said figure show currently eight people per thousand car owner desperately need expand production order meet growing demand indian auto market growing 12 percent every year top competitor chairman chung mong koo said statement said company plan use india base export europe latin america middle east company control half south korean market aim become global top five auto maker 2010',\n",
       "        'business', 0],\n",
       "       [1590,\n",
       "        'weak dollar hit reuters revenue medium group reuters slipped 11 2004 mainly due weakness dollar group said company said optimistic growth even revenue slipped 11 3 24bn 6 13bn 2003 2 89bn 2004 reuters beat profit forecast posting 52 rise profit year 198m 130m seen year earlier reuters also beat saving target 2004 delivering 234m cut three year fast forward turnaround plan aimed save 220m 12 month 31 december reuters also managed slow decline underlying revenue 5 4 10 2 2003 cut debt back 160m 610m year earlier news financial data seller said year begun well adding expected gradual improvement second quarter year good january sale added planning deliver 105m saving coming year said expects hit 80m restructuring charge pay cost moving fleet street new headquarters london canary wharf improving customer relationship competitive product continued strong cost discipline position u well 2005 chief executive tom glocer said adding company beginning look beyond recovery growth',\n",
       "        'business', 0]], dtype=object)"
      ]
     },
     "execution_count": 122,
     "metadata": {},
     "output_type": "execute_result"
    }
   ],
   "source": [
    "tech=data[data[\"Category\"]=='business'].values\n",
    "tech"
   ]
  },
  {
   "cell_type": "code",
   "execution_count": 108,
   "id": "1563245c",
   "metadata": {},
   "outputs": [
    {
     "data": {
      "text/plain": [
       "[0       False\n",
       " 1       False\n",
       " 2       False\n",
       " 3        True\n",
       " 4       False\n",
       "         ...  \n",
       " 1485    False\n",
       " 1486    False\n",
       " 1487    False\n",
       " 1488     True\n",
       " 1489     True\n",
       " Name: Category, Length: 1490, dtype: bool]"
      ]
     },
     "execution_count": 108,
     "metadata": {},
     "output_type": "execute_result"
    }
   ],
   "source": []
  },
  {
   "cell_type": "code",
   "execution_count": null,
   "id": "43df5ff5",
   "metadata": {},
   "outputs": [],
   "source": []
  }
 ],
 "metadata": {
  "kernelspec": {
   "display_name": "Python 3 (ipykernel)",
   "language": "python",
   "name": "python3"
  },
  "language_info": {
   "codemirror_mode": {
    "name": "ipython",
    "version": 3
   },
   "file_extension": ".py",
   "mimetype": "text/x-python",
   "name": "python",
   "nbconvert_exporter": "python",
   "pygments_lexer": "ipython3",
   "version": "3.11.1"
  }
 },
 "nbformat": 4,
 "nbformat_minor": 5
}
